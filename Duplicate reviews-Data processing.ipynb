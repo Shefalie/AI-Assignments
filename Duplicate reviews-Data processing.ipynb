{
 "cells": [
  {
   "cell_type": "markdown",
   "id": "dee66706",
   "metadata": {},
   "source": [
    "## 1. Duplicate Review Removal"
   ]
  },
  {
   "cell_type": "code",
   "execution_count": 5,
   "id": "bd2f0ead",
   "metadata": {},
   "outputs": [],
   "source": [
    "import pandas as pd\n",
    "import warnings as wn\n",
    "wn.filterwarnings(\"ignore\")"
   ]
  },
  {
   "cell_type": "code",
   "execution_count": 6,
   "id": "aecc04d3",
   "metadata": {},
   "outputs": [
    {
     "data": {
      "text/html": [
       "<div>\n",
       "<style scoped>\n",
       "    .dataframe tbody tr th:only-of-type {\n",
       "        vertical-align: middle;\n",
       "    }\n",
       "\n",
       "    .dataframe tbody tr th {\n",
       "        vertical-align: top;\n",
       "    }\n",
       "\n",
       "    .dataframe thead th {\n",
       "        text-align: right;\n",
       "    }\n",
       "</style>\n",
       "<table border=\"1\" class=\"dataframe\">\n",
       "  <thead>\n",
       "    <tr style=\"text-align: right;\">\n",
       "      <th></th>\n",
       "      <th>Text</th>\n",
       "    </tr>\n",
       "  </thead>\n",
       "  <tbody>\n",
       "    <tr>\n",
       "      <th>0</th>\n",
       "      <td>This is the first pair of shoes I got online</td>\n",
       "    </tr>\n",
       "    <tr>\n",
       "      <th>1</th>\n",
       "      <td>First few days was a tad tight but now that th...</td>\n",
       "    </tr>\n",
       "    <tr>\n",
       "      <th>2</th>\n",
       "      <td>The soles are not hard but not too flexible ei...</td>\n",
       "    </tr>\n",
       "    <tr>\n",
       "      <th>3</th>\n",
       "      <td>Usually wear a 9.5 but after trying them on at...</td>\n",
       "    </tr>\n",
       "    <tr>\n",
       "      <th>4</th>\n",
       "      <td>I had the Kinvara 4 running shoes</td>\n",
       "    </tr>\n",
       "    <tr>\n",
       "      <th>...</th>\n",
       "      <td>...</td>\n",
       "    </tr>\n",
       "    <tr>\n",
       "      <th>95</th>\n",
       "      <td>These are very nice shoes .</td>\n",
       "    </tr>\n",
       "    <tr>\n",
       "      <th>96</th>\n",
       "      <td>Quality is great</td>\n",
       "    </tr>\n",
       "    <tr>\n",
       "      <th>97</th>\n",
       "      <td>I like the shoe a lot .</td>\n",
       "    </tr>\n",
       "    <tr>\n",
       "      <th>98</th>\n",
       "      <td>I bought the yellow colored from Amazon ( as m...</td>\n",
       "    </tr>\n",
       "    <tr>\n",
       "      <th>99</th>\n",
       "      <td>Once I wore the shoes for a few days the shipp...</td>\n",
       "    </tr>\n",
       "  </tbody>\n",
       "</table>\n",
       "<p>100 rows × 1 columns</p>\n",
       "</div>"
      ],
      "text/plain": [
       "                                                 Text\n",
       "0        This is the first pair of shoes I got online\n",
       "1   First few days was a tad tight but now that th...\n",
       "2   The soles are not hard but not too flexible ei...\n",
       "3   Usually wear a 9.5 but after trying them on at...\n",
       "4                   I had the Kinvara 4 running shoes\n",
       "..                                                ...\n",
       "95                        These are very nice shoes .\n",
       "96                                   Quality is great\n",
       "97                            I like the shoe a lot .\n",
       "98  I bought the yellow colored from Amazon ( as m...\n",
       "99  Once I wore the shoes for a few days the shipp...\n",
       "\n",
       "[100 rows x 1 columns]"
      ]
     },
     "execution_count": 6,
     "metadata": {},
     "output_type": "execute_result"
    }
   ],
   "source": [
    "review_text = pd.read_csv(\"C:\\\\Users\\\\shefs\\\\Documents\\\\Downloads\\\\review_text.csv\",header = None,names = ['Text'])\n",
    "review_text"
   ]
  },
  {
   "cell_type": "code",
   "execution_count": 7,
   "id": "26574acc",
   "metadata": {},
   "outputs": [
    {
     "data": {
      "text/html": [
       "<div>\n",
       "<style scoped>\n",
       "    .dataframe tbody tr th:only-of-type {\n",
       "        vertical-align: middle;\n",
       "    }\n",
       "\n",
       "    .dataframe tbody tr th {\n",
       "        vertical-align: top;\n",
       "    }\n",
       "\n",
       "    .dataframe thead th {\n",
       "        text-align: right;\n",
       "    }\n",
       "</style>\n",
       "<table border=\"1\" class=\"dataframe\">\n",
       "  <thead>\n",
       "    <tr style=\"text-align: right;\">\n",
       "      <th></th>\n",
       "      <th>Text</th>\n",
       "      <th>word_count</th>\n",
       "    </tr>\n",
       "  </thead>\n",
       "  <tbody>\n",
       "    <tr>\n",
       "      <th>0</th>\n",
       "      <td>This is the first pair of shoes I got online</td>\n",
       "      <td>10</td>\n",
       "    </tr>\n",
       "    <tr>\n",
       "      <th>1</th>\n",
       "      <td>First few days was a tad tight but now that th...</td>\n",
       "      <td>20</td>\n",
       "    </tr>\n",
       "    <tr>\n",
       "      <th>2</th>\n",
       "      <td>The soles are not hard but not too flexible ei...</td>\n",
       "      <td>11</td>\n",
       "    </tr>\n",
       "    <tr>\n",
       "      <th>3</th>\n",
       "      <td>Usually wear a 9.5 but after trying them on at...</td>\n",
       "      <td>19</td>\n",
       "    </tr>\n",
       "    <tr>\n",
       "      <th>4</th>\n",
       "      <td>I had the Kinvara 4 running shoes</td>\n",
       "      <td>7</td>\n",
       "    </tr>\n",
       "  </tbody>\n",
       "</table>\n",
       "</div>"
      ],
      "text/plain": [
       "                                                Text  word_count\n",
       "0       This is the first pair of shoes I got online          10\n",
       "1  First few days was a tad tight but now that th...          20\n",
       "2  The soles are not hard but not too flexible ei...          11\n",
       "3  Usually wear a 9.5 but after trying them on at...          19\n",
       "4                  I had the Kinvara 4 running shoes           7"
      ]
     },
     "execution_count": 7,
     "metadata": {},
     "output_type": "execute_result"
    }
   ],
   "source": [
    "# Number of Words\n",
    "\n",
    "review_text['word_count'] = review_text['Text'].apply(lambda x: len(str(x).split(\" \")))\n",
    "review_text[['Text','word_count']].head()"
   ]
  },
  {
   "cell_type": "code",
   "execution_count": 8,
   "id": "9a5269f3",
   "metadata": {},
   "outputs": [
    {
     "data": {
      "text/html": [
       "<div>\n",
       "<style scoped>\n",
       "    .dataframe tbody tr th:only-of-type {\n",
       "        vertical-align: middle;\n",
       "    }\n",
       "\n",
       "    .dataframe tbody tr th {\n",
       "        vertical-align: top;\n",
       "    }\n",
       "\n",
       "    .dataframe thead th {\n",
       "        text-align: right;\n",
       "    }\n",
       "</style>\n",
       "<table border=\"1\" class=\"dataframe\">\n",
       "  <thead>\n",
       "    <tr style=\"text-align: right;\">\n",
       "      <th></th>\n",
       "      <th>Text</th>\n",
       "      <th>char_count</th>\n",
       "    </tr>\n",
       "  </thead>\n",
       "  <tbody>\n",
       "    <tr>\n",
       "      <th>0</th>\n",
       "      <td>This is the first pair of shoes I got online</td>\n",
       "      <td>44</td>\n",
       "    </tr>\n",
       "    <tr>\n",
       "      <th>1</th>\n",
       "      <td>First few days was a tad tight but now that th...</td>\n",
       "      <td>86</td>\n",
       "    </tr>\n",
       "    <tr>\n",
       "      <th>2</th>\n",
       "      <td>The soles are not hard but not too flexible ei...</td>\n",
       "      <td>52</td>\n",
       "    </tr>\n",
       "    <tr>\n",
       "      <th>3</th>\n",
       "      <td>Usually wear a 9.5 but after trying them on at...</td>\n",
       "      <td>81</td>\n",
       "    </tr>\n",
       "    <tr>\n",
       "      <th>4</th>\n",
       "      <td>I had the Kinvara 4 running shoes</td>\n",
       "      <td>33</td>\n",
       "    </tr>\n",
       "  </tbody>\n",
       "</table>\n",
       "</div>"
      ],
      "text/plain": [
       "                                                Text  char_count\n",
       "0       This is the first pair of shoes I got online          44\n",
       "1  First few days was a tad tight but now that th...          86\n",
       "2  The soles are not hard but not too flexible ei...          52\n",
       "3  Usually wear a 9.5 but after trying them on at...          81\n",
       "4                  I had the Kinvara 4 running shoes          33"
      ]
     },
     "execution_count": 8,
     "metadata": {},
     "output_type": "execute_result"
    }
   ],
   "source": [
    "# Number of characters\n",
    "\n",
    "review_text['char_count'] = review_text['Text'].str.len() ## this also includes spaces\n",
    "review_text[['Text','char_count']].head()"
   ]
  },
  {
   "cell_type": "code",
   "execution_count": 9,
   "id": "ba09981f",
   "metadata": {},
   "outputs": [
    {
     "data": {
      "text/html": [
       "<div>\n",
       "<style scoped>\n",
       "    .dataframe tbody tr th:only-of-type {\n",
       "        vertical-align: middle;\n",
       "    }\n",
       "\n",
       "    .dataframe tbody tr th {\n",
       "        vertical-align: top;\n",
       "    }\n",
       "\n",
       "    .dataframe thead th {\n",
       "        text-align: right;\n",
       "    }\n",
       "</style>\n",
       "<table border=\"1\" class=\"dataframe\">\n",
       "  <thead>\n",
       "    <tr style=\"text-align: right;\">\n",
       "      <th></th>\n",
       "      <th>Text</th>\n",
       "      <th>avg_word</th>\n",
       "    </tr>\n",
       "  </thead>\n",
       "  <tbody>\n",
       "    <tr>\n",
       "      <th>0</th>\n",
       "      <td>This is the first pair of shoes I got online</td>\n",
       "      <td>3.500000</td>\n",
       "    </tr>\n",
       "    <tr>\n",
       "      <th>1</th>\n",
       "      <td>First few days was a tad tight but now that th...</td>\n",
       "      <td>3.350000</td>\n",
       "    </tr>\n",
       "    <tr>\n",
       "      <th>2</th>\n",
       "      <td>The soles are not hard but not too flexible ei...</td>\n",
       "      <td>3.818182</td>\n",
       "    </tr>\n",
       "    <tr>\n",
       "      <th>3</th>\n",
       "      <td>Usually wear a 9.5 but after trying them on at...</td>\n",
       "      <td>3.315789</td>\n",
       "    </tr>\n",
       "    <tr>\n",
       "      <th>4</th>\n",
       "      <td>I had the Kinvara 4 running shoes</td>\n",
       "      <td>3.857143</td>\n",
       "    </tr>\n",
       "  </tbody>\n",
       "</table>\n",
       "</div>"
      ],
      "text/plain": [
       "                                                Text  avg_word\n",
       "0       This is the first pair of shoes I got online  3.500000\n",
       "1  First few days was a tad tight but now that th...  3.350000\n",
       "2  The soles are not hard but not too flexible ei...  3.818182\n",
       "3  Usually wear a 9.5 but after trying them on at...  3.315789\n",
       "4                  I had the Kinvara 4 running shoes  3.857143"
      ]
     },
     "execution_count": 9,
     "metadata": {},
     "output_type": "execute_result"
    }
   ],
   "source": [
    "# Average Word Length\n",
    "\n",
    "def avg_word(sentence):\n",
    "    words = sentence.split()\n",
    "    return (sum(len(word) for word in words)/len(words))\n",
    "\n",
    "review_text['avg_word'] = review_text['Text'].apply(lambda x: avg_word(x))\n",
    "review_text[['Text','avg_word']].head()"
   ]
  },
  {
   "cell_type": "markdown",
   "id": "af09e290",
   "metadata": {},
   "source": [
    "## Basic Pre-processing"
   ]
  },
  {
   "cell_type": "code",
   "execution_count": 10,
   "id": "9de350fa",
   "metadata": {},
   "outputs": [
    {
     "data": {
      "text/plain": [
       "0         this is the first pair of shoes i got online\n",
       "1    first few days was a tad tight but now that th...\n",
       "2    the soles are not hard but not too flexible ei...\n",
       "3    usually wear a 9.5 but after trying them on at...\n",
       "4                    i had the kinvara 4 running shoes\n",
       "Name: Text, dtype: object"
      ]
     },
     "execution_count": 10,
     "metadata": {},
     "output_type": "execute_result"
    }
   ],
   "source": [
    "#Lower case\n",
    "\n",
    "review_text['Text'] = review_text['Text'].apply(lambda x: \" \".join(x.lower() for x in x.split()))\n",
    "review_text['Text'].head()"
   ]
  },
  {
   "cell_type": "code",
   "execution_count": 11,
   "id": "6b2d5008",
   "metadata": {},
   "outputs": [
    {
     "data": {
      "text/plain": [
       "0         this is the first pair of shoes i got online\n",
       "1    first few days was a tad tight but now that th...\n",
       "2    the soles are not hard but not too flexible ei...\n",
       "3    usually wear a 95 but after trying them on at ...\n",
       "4                    i had the kinvara 4 running shoes\n",
       "Name: Text, dtype: object"
      ]
     },
     "execution_count": 11,
     "metadata": {},
     "output_type": "execute_result"
    }
   ],
   "source": [
    "#Removing Punctuation\n",
    "\n",
    "review_text['Text'] = review_text['Text'].str.replace('[^\\w\\s]','')\n",
    "review_text['Text'].head()"
   ]
  },
  {
   "cell_type": "code",
   "execution_count": 12,
   "id": "eddebeea",
   "metadata": {},
   "outputs": [
    {
     "data": {
      "text/plain": [
       "0                   first pair shoes got online\n",
       "1    first days tad tight broken fit like glove\n",
       "2                    soles hard flexible either\n",
       "3    usually wear 95 trying store first went 10\n",
       "4                       kinvara 4 running shoes\n",
       "Name: Text, dtype: object"
      ]
     },
     "execution_count": 12,
     "metadata": {},
     "output_type": "execute_result"
    }
   ],
   "source": [
    "#Removal of Stop Words\n",
    "\n",
    "from nltk.corpus import stopwords\n",
    "stop = stopwords.words('english')\n",
    "review_text['Text'] = review_text['Text'].apply(lambda x: \" \".join(x for x in x.split() if x not in stop))\n",
    "review_text['Text'].head()"
   ]
  },
  {
   "cell_type": "code",
   "execution_count": 13,
   "id": "e04675cd",
   "metadata": {},
   "outputs": [
    {
     "data": {
      "text/plain": [
       "shoes          25\n",
       "shoe           17\n",
       "great          16\n",
       "good           13\n",
       "running        11\n",
       "comfortable    11\n",
       "nice            8\n",
       "fit             8\n",
       "pair            7\n",
       "color           6\n",
       "dtype: int64"
      ]
     },
     "execution_count": 13,
     "metadata": {},
     "output_type": "execute_result"
    }
   ],
   "source": [
    "#Common word removal\n",
    "\n",
    "freq = pd.Series(' '.join(review_text['Text']).split()).value_counts()[:10]\n",
    "freq"
   ]
  },
  {
   "cell_type": "code",
   "execution_count": 14,
   "id": "f2a3e3ac",
   "metadata": {},
   "outputs": [
    {
     "data": {
      "text/plain": [
       "0                              first got online\n",
       "1        first days tad tight broken like glove\n",
       "2                    soles hard flexible either\n",
       "3    usually wear 95 trying store first went 10\n",
       "4                                     kinvara 4\n",
       "Name: Text, dtype: object"
      ]
     },
     "execution_count": 14,
     "metadata": {},
     "output_type": "execute_result"
    }
   ],
   "source": [
    "freq = list(freq.index)\n",
    "review_text['Text'] = review_text['Text'].apply(lambda x: \" \".join(x for x in x.split() if x not in freq))\n",
    "review_text['Text'].head()"
   ]
  },
  {
   "cell_type": "code",
   "execution_count": 15,
   "id": "c0ce9889",
   "metadata": {},
   "outputs": [
    {
     "data": {
      "text/plain": [
       "wise       1\n",
       "asics      1\n",
       "times      1\n",
       "width      1\n",
       "loving     1\n",
       "service    1\n",
       "fell       1\n",
       "better     1\n",
       "far34      1\n",
       "weight     1\n",
       "dtype: int64"
      ]
     },
     "execution_count": 15,
     "metadata": {},
     "output_type": "execute_result"
    }
   ],
   "source": [
    "#Rare words removal\n",
    "\n",
    "freq1 = pd.Series(' '.join(review_text['Text']).split()).value_counts()[-10:]\n",
    "freq1\n",
    "\n"
   ]
  },
  {
   "cell_type": "code",
   "execution_count": 16,
   "id": "6ef01bde",
   "metadata": {},
   "outputs": [
    {
     "data": {
      "text/plain": [
       "0                              first got online\n",
       "1        first days tad tight broken like glove\n",
       "2                    soles hard flexible either\n",
       "3    usually wear 95 trying store first went 10\n",
       "4                                     kinvara 4\n",
       "Name: Text, dtype: object"
      ]
     },
     "execution_count": 16,
     "metadata": {},
     "output_type": "execute_result"
    }
   ],
   "source": [
    "freq1 = list(freq1.index)\n",
    "review_text['Text'] = review_text['Text'].apply(lambda x: \" \".join(x for x in x.split() if x not in freq1))\n",
    "review_text['Text'].head()"
   ]
  },
  {
   "cell_type": "code",
   "execution_count": 17,
   "id": "76466ba1",
   "metadata": {},
   "outputs": [
    {
     "name": "stdout",
     "output_type": "stream",
     "text": [
      "Requirement already satisfied: textblob in c:\\users\\shefs\\anaconda3\\lib\\site-packages (0.17.1)\n",
      "Requirement already satisfied: nltk>=3.1 in c:\\users\\shefs\\anaconda3\\lib\\site-packages (from textblob) (3.6.5)\n",
      "Requirement already satisfied: click in c:\\users\\shefs\\anaconda3\\lib\\site-packages (from nltk>=3.1->textblob) (8.0.3)\n",
      "Requirement already satisfied: joblib in c:\\users\\shefs\\anaconda3\\lib\\site-packages (from nltk>=3.1->textblob) (1.1.0)\n",
      "Requirement already satisfied: regex>=2021.8.3 in c:\\users\\shefs\\anaconda3\\lib\\site-packages (from nltk>=3.1->textblob) (2021.8.3)\n",
      "Requirement already satisfied: tqdm in c:\\users\\shefs\\anaconda3\\lib\\site-packages (from nltk>=3.1->textblob) (4.62.3)\n",
      "Requirement already satisfied: colorama in c:\\users\\shefs\\anaconda3\\lib\\site-packages (from click->nltk>=3.1->textblob) (0.4.4)\n"
     ]
    },
    {
     "data": {
      "text/plain": [
       "0                              first got online\n",
       "1        first days had tight broken like glove\n",
       "2                    soles hard flexible either\n",
       "3    usually wear 95 trying store first went 10\n",
       "4                                     kinvara 4\n",
       "Name: Text, dtype: object"
      ]
     },
     "execution_count": 17,
     "metadata": {},
     "output_type": "execute_result"
    }
   ],
   "source": [
    "# Spelling correction\n",
    "!pip install textblob\n",
    "from textblob import TextBlob\n",
    "review_text['Text'][:5].apply(lambda x: str(TextBlob(x).correct()))"
   ]
  },
  {
   "cell_type": "code",
   "execution_count": 18,
   "id": "15d51eaf",
   "metadata": {},
   "outputs": [
    {
     "data": {
      "text/plain": [
       "WordList(['first', 'days', 'tad', 'tight', 'broken', 'like', 'glove'])"
      ]
     },
     "execution_count": 18,
     "metadata": {},
     "output_type": "execute_result"
    }
   ],
   "source": [
    "# Tokenization\n",
    "\n",
    "TextBlob(review_text['Text'][1]).words"
   ]
  },
  {
   "cell_type": "code",
   "execution_count": 19,
   "id": "3d67d1ea",
   "metadata": {},
   "outputs": [
    {
     "data": {
      "text/plain": [
       "0                          first got onlin\n",
       "1    first day tad tight broken like glove\n",
       "2                 sole hard flexibl either\n",
       "3    usual wear 95 tri store first went 10\n",
       "4                                kinvara 4\n",
       "Name: Text, dtype: object"
      ]
     },
     "execution_count": 19,
     "metadata": {},
     "output_type": "execute_result"
    }
   ],
   "source": [
    "#Stemming\n",
    "\n",
    "from nltk.stem import PorterStemmer\n",
    "st = PorterStemmer()\n",
    "review_text['Text'][:5].apply(lambda x: \" \".join([st.stem(word) for word in x.split()]))"
   ]
  },
  {
   "cell_type": "code",
   "execution_count": 20,
   "id": "3ac5ade4",
   "metadata": {},
   "outputs": [
    {
     "name": "stderr",
     "output_type": "stream",
     "text": [
      "[nltk_data] Downloading package wordnet to\n",
      "[nltk_data]     C:\\Users\\shefs\\AppData\\Roaming\\nltk_data...\n",
      "[nltk_data]   Package wordnet is already up-to-date!\n"
     ]
    },
    {
     "data": {
      "text/plain": [
       "0                              first got online\n",
       "1         first day tad tight broken like glove\n",
       "2                      sol hard flexible either\n",
       "3    usually wear 95 trying store first went 10\n",
       "4                                     kinvara 4\n",
       "Name: Text, dtype: object"
      ]
     },
     "execution_count": 20,
     "metadata": {},
     "output_type": "execute_result"
    }
   ],
   "source": [
    "#Lemmatization\n",
    "import nltk\n",
    "nltk.download('wordnet')\n",
    "\n",
    "from textblob import Word\n",
    "review_text['Text'] = review_text['Text'].apply(lambda x: \" \".join([Word(word).lemmatize() for word in x.split()]))\n",
    "review_text['Text'].head()"
   ]
  },
  {
   "cell_type": "markdown",
   "id": "2b931399",
   "metadata": {},
   "source": [
    "## Term Frequency – Inverse Document Frequency (TF-IDF)"
   ]
  },
  {
   "cell_type": "code",
   "execution_count": 21,
   "id": "3a02c690",
   "metadata": {},
   "outputs": [
    {
     "data": {
      "text/plain": [
       "<100x195 sparse matrix of type '<class 'numpy.float64'>'\n",
       "\twith 334 stored elements in Compressed Sparse Row format>"
      ]
     },
     "execution_count": 21,
     "metadata": {},
     "output_type": "execute_result"
    }
   ],
   "source": [
    "from sklearn.feature_extraction.text import TfidfVectorizer\n",
    "tfidf = TfidfVectorizer(max_features=1000, lowercase=True, analyzer='word',\n",
    " stop_words= 'english',ngram_range=(1,1))\n",
    "text_vect = tfidf.fit_transform(review_text['Text'])\n",
    "\n",
    "text_vect"
   ]
  },
  {
   "cell_type": "code",
   "execution_count": 22,
   "id": "44ba9977",
   "metadata": {},
   "outputs": [
    {
     "data": {
      "text/plain": [
       "<100x100 sparse matrix of type '<class 'numpy.float64'>'\n",
       "\twith 446 stored elements in Compressed Sparse Row format>"
      ]
     },
     "execution_count": 22,
     "metadata": {},
     "output_type": "execute_result"
    }
   ],
   "source": [
    "pairwise_similarity = text_vect* text_vect.T\n",
    "pairwise_similarity"
   ]
  },
  {
   "cell_type": "code",
   "execution_count": 23,
   "id": "5b977191",
   "metadata": {},
   "outputs": [
    {
     "data": {
      "text/plain": [
       "array([[1.        , 0.        , 0.        , ..., 0.        , 0.        ,\n",
       "        0.        ],\n",
       "       [0.        , 1.        , 0.        , ..., 0.23851807, 0.        ,\n",
       "        0.08180104],\n",
       "       [0.        , 0.        , 1.        , ..., 0.        , 0.        ,\n",
       "        0.        ],\n",
       "       ...,\n",
       "       [0.        , 0.23851807, 0.        , ..., 1.        , 0.        ,\n",
       "        0.        ],\n",
       "       [0.        , 0.        , 0.        , ..., 0.        , 1.        ,\n",
       "        0.        ],\n",
       "       [0.        , 0.08180104, 0.        , ..., 0.        , 0.        ,\n",
       "        1.        ]])"
      ]
     },
     "execution_count": 23,
     "metadata": {},
     "output_type": "execute_result"
    }
   ],
   "source": [
    "pairwise_similarity.toarray() "
   ]
  },
  {
   "cell_type": "code",
   "execution_count": 24,
   "id": "4df8077d",
   "metadata": {},
   "outputs": [
    {
     "name": "stdout",
     "output_type": "stream",
     "text": [
      "  (0, 67)\t0.28666040789831354\n",
      "  (0, 0)\t0.9999999999999998\n",
      "  (1, 99)\t0.08180103637801456\n",
      "  (1, 83)\t0.14619492353001123\n",
      "  (1, 77)\t0.09027169276480414\n",
      "  (1, 73)\t0.08180103637801456\n",
      "  (1, 65)\t0.12268908325363599\n",
      "  (1, 19)\t0.14619492353001123\n",
      "  (1, 14)\t0.12587621246660446\n",
      "  (1, 13)\t0.08840837106681712\n",
      "  (1, 97)\t0.23851807325664745\n",
      "  (1, 59)\t0.34545177626908213\n",
      "  (1, 48)\t0.16631148676471602\n",
      "  (1, 33)\t0.23851807325664745\n",
      "  (1, 1)\t0.9999999999999999\n",
      "  (2, 2)\t1.0\n",
      "  (3, 79)\t0.14711017963822168\n",
      "  (3, 65)\t0.16457566550482225\n",
      "  (3, 14)\t0.1688508943790147\n",
      "  (3, 67)\t0.15871757709482678\n",
      "  (3, 99)\t0.10972826305226265\n",
      "  (3, 73)\t0.10972826305226265\n",
      "  (3, 8)\t0.12992945562709254\n",
      "  (3, 71)\t0.11727009543134674\n",
      "  (3, 3)\t1.0\n",
      "  :\t:\n",
      "  (96, 32)\t1.0\n",
      "  (97, 59)\t0.6904525888755569\n",
      "  (97, 48)\t0.3324058652603269\n",
      "  (97, 1)\t0.23851807325664745\n",
      "  (97, 97)\t1.0000000000000002\n",
      "  (97, 91)\t0.22673578812665154\n",
      "  (97, 33)\t1.0000000000000002\n",
      "  (97, 27)\t0.22673578812665154\n",
      "  (98, 68)\t0.1553974887329577\n",
      "  (98, 46)\t0.14617006055774423\n",
      "  (98, 16)\t0.19116768225952357\n",
      "  (98, 98)\t0.9999999999999998\n",
      "  (98, 72)\t0.9999999999999998\n",
      "  (99, 83)\t0.13350139327553534\n",
      "  (99, 77)\t0.08243375670269752\n",
      "  (99, 65)\t0.11203647266655056\n",
      "  (99, 19)\t0.13350139327553534\n",
      "  (99, 14)\t0.11494687598430399\n",
      "  (99, 13)\t0.08073221989967208\n",
      "  (99, 1)\t0.08180103637801456\n",
      "  (99, 8)\t0.1293401714667492\n",
      "  (99, 3)\t0.10972826305226265\n",
      "  (99, 62)\t0.10888185062372259\n",
      "  (99, 99)\t1.0\n",
      "  (99, 73)\t1.0\n"
     ]
    }
   ],
   "source": [
    "print(pairwise_similarity)"
   ]
  },
  {
   "cell_type": "code",
   "execution_count": 25,
   "id": "048ceae0",
   "metadata": {},
   "outputs": [
    {
     "data": {
      "text/plain": [
       "0                     (0.25, 0.3333333333333333)\n",
       "1    (-0.10952380952380954, 0.33968253968253964)\n",
       "2      (-0.2916666666666667, 0.5416666666666666)\n",
       "3                     (0.0, 0.29166666666666663)\n",
       "4                                     (0.0, 0.0)\n",
       "Name: Text, dtype: object"
      ]
     },
     "execution_count": 25,
     "metadata": {},
     "output_type": "execute_result"
    }
   ],
   "source": [
    "#Sentiment Analysis\n",
    "\n",
    "review_text['Text'][:5].apply(lambda x: TextBlob(x).sentiment)"
   ]
  },
  {
   "cell_type": "code",
   "execution_count": 26,
   "id": "eafe43cc",
   "metadata": {},
   "outputs": [
    {
     "data": {
      "text/html": [
       "<div>\n",
       "<style scoped>\n",
       "    .dataframe tbody tr th:only-of-type {\n",
       "        vertical-align: middle;\n",
       "    }\n",
       "\n",
       "    .dataframe tbody tr th {\n",
       "        vertical-align: top;\n",
       "    }\n",
       "\n",
       "    .dataframe thead th {\n",
       "        text-align: right;\n",
       "    }\n",
       "</style>\n",
       "<table border=\"1\" class=\"dataframe\">\n",
       "  <thead>\n",
       "    <tr style=\"text-align: right;\">\n",
       "      <th></th>\n",
       "      <th>Text</th>\n",
       "      <th>sentiment</th>\n",
       "    </tr>\n",
       "  </thead>\n",
       "  <tbody>\n",
       "    <tr>\n",
       "      <th>0</th>\n",
       "      <td>first got online</td>\n",
       "      <td>0.250000</td>\n",
       "    </tr>\n",
       "    <tr>\n",
       "      <th>1</th>\n",
       "      <td>first day tad tight broken like glove</td>\n",
       "      <td>-0.109524</td>\n",
       "    </tr>\n",
       "    <tr>\n",
       "      <th>2</th>\n",
       "      <td>sol hard flexible either</td>\n",
       "      <td>-0.291667</td>\n",
       "    </tr>\n",
       "    <tr>\n",
       "      <th>3</th>\n",
       "      <td>usually wear 95 trying store first went 10</td>\n",
       "      <td>0.000000</td>\n",
       "    </tr>\n",
       "    <tr>\n",
       "      <th>4</th>\n",
       "      <td>kinvara 4</td>\n",
       "      <td>0.000000</td>\n",
       "    </tr>\n",
       "  </tbody>\n",
       "</table>\n",
       "</div>"
      ],
      "text/plain": [
       "                                         Text  sentiment\n",
       "0                            first got online   0.250000\n",
       "1       first day tad tight broken like glove  -0.109524\n",
       "2                    sol hard flexible either  -0.291667\n",
       "3  usually wear 95 trying store first went 10   0.000000\n",
       "4                                   kinvara 4   0.000000"
      ]
     },
     "execution_count": 26,
     "metadata": {},
     "output_type": "execute_result"
    }
   ],
   "source": [
    "review_text['sentiment'] = review_text['Text'].apply(lambda x: TextBlob(x).sentiment[0] )\n",
    "review_text[['Text','sentiment']].head()"
   ]
  },
  {
   "cell_type": "code",
   "execution_count": 36,
   "id": "21036e6b",
   "metadata": {},
   "outputs": [
    {
     "data": {
      "text/plain": [
       "0                                    first got online\n",
       "1               first day tad tight broken like glove\n",
       "2                            sol hard flexible either\n",
       "3          usually wear 95 trying store first went 10\n",
       "4                                           kinvara 4\n",
       "                           ...                       \n",
       "95                                                   \n",
       "96                                            quality\n",
       "97                                           like lot\n",
       "98                 bought yellow colored amazon third\n",
       "99    wore day shipping squished ness went away comfy\n",
       "Name: Text, Length: 100, dtype: object"
      ]
     },
     "execution_count": 36,
     "metadata": {},
     "output_type": "execute_result"
    }
   ],
   "source": [
    "review_text['Text']"
   ]
  },
  {
   "cell_type": "code",
   "execution_count": 43,
   "id": "e3af1801",
   "metadata": {},
   "outputs": [
    {
     "data": {
      "text/html": [
       "<div>\n",
       "<style scoped>\n",
       "    .dataframe tbody tr th:only-of-type {\n",
       "        vertical-align: middle;\n",
       "    }\n",
       "\n",
       "    .dataframe tbody tr th {\n",
       "        vertical-align: top;\n",
       "    }\n",
       "\n",
       "    .dataframe thead th {\n",
       "        text-align: right;\n",
       "    }\n",
       "</style>\n",
       "<table border=\"1\" class=\"dataframe\">\n",
       "  <thead>\n",
       "    <tr style=\"text-align: right;\">\n",
       "      <th></th>\n",
       "      <th>Text</th>\n",
       "      <th>word_count</th>\n",
       "      <th>char_count</th>\n",
       "      <th>avg_word</th>\n",
       "      <th>sentiment</th>\n",
       "    </tr>\n",
       "  </thead>\n",
       "  <tbody>\n",
       "    <tr>\n",
       "      <th>0</th>\n",
       "      <td>first got online</td>\n",
       "      <td>10</td>\n",
       "      <td>44</td>\n",
       "      <td>3.500000</td>\n",
       "      <td>0.250000</td>\n",
       "    </tr>\n",
       "    <tr>\n",
       "      <th>1</th>\n",
       "      <td>first day tad tight broken like glove</td>\n",
       "      <td>20</td>\n",
       "      <td>86</td>\n",
       "      <td>3.350000</td>\n",
       "      <td>-0.109524</td>\n",
       "    </tr>\n",
       "    <tr>\n",
       "      <th>2</th>\n",
       "      <td>sol hard flexible either</td>\n",
       "      <td>11</td>\n",
       "      <td>52</td>\n",
       "      <td>3.818182</td>\n",
       "      <td>-0.291667</td>\n",
       "    </tr>\n",
       "    <tr>\n",
       "      <th>3</th>\n",
       "      <td>usually wear 95 trying store first went 10</td>\n",
       "      <td>19</td>\n",
       "      <td>81</td>\n",
       "      <td>3.315789</td>\n",
       "      <td>0.000000</td>\n",
       "    </tr>\n",
       "    <tr>\n",
       "      <th>4</th>\n",
       "      <td>kinvara 4</td>\n",
       "      <td>7</td>\n",
       "      <td>33</td>\n",
       "      <td>3.857143</td>\n",
       "      <td>0.000000</td>\n",
       "    </tr>\n",
       "    <tr>\n",
       "      <th>...</th>\n",
       "      <td>...</td>\n",
       "      <td>...</td>\n",
       "      <td>...</td>\n",
       "      <td>...</td>\n",
       "      <td>...</td>\n",
       "    </tr>\n",
       "    <tr>\n",
       "      <th>75</th>\n",
       "      <td>everyday</td>\n",
       "      <td>4</td>\n",
       "      <td>32</td>\n",
       "      <td>7.250000</td>\n",
       "      <td>-0.200000</td>\n",
       "    </tr>\n",
       "    <tr>\n",
       "      <th>77</th>\n",
       "      <td>perfect next 5 k 12 day love heel city</td>\n",
       "      <td>23</td>\n",
       "      <td>99</td>\n",
       "      <td>3.347826</td>\n",
       "      <td>0.500000</td>\n",
       "    </tr>\n",
       "    <tr>\n",
       "      <th>78</th>\n",
       "      <td>walking runner</td>\n",
       "      <td>12</td>\n",
       "      <td>51</td>\n",
       "      <td>3.333333</td>\n",
       "      <td>0.000000</td>\n",
       "    </tr>\n",
       "    <tr>\n",
       "      <th>79</th>\n",
       "      <td>new balance support well light wear</td>\n",
       "      <td>12</td>\n",
       "      <td>64</td>\n",
       "      <td>4.416667</td>\n",
       "      <td>0.268182</td>\n",
       "    </tr>\n",
       "    <tr>\n",
       "      <th>80</th>\n",
       "      <td>loved light</td>\n",
       "      <td>6</td>\n",
       "      <td>28</td>\n",
       "      <td>3.833333</td>\n",
       "      <td>0.550000</td>\n",
       "    </tr>\n",
       "  </tbody>\n",
       "</table>\n",
       "<p>75 rows × 5 columns</p>\n",
       "</div>"
      ],
      "text/plain": [
       "                                          Text  word_count  char_count  \\\n",
       "0                             first got online          10          44   \n",
       "1        first day tad tight broken like glove          20          86   \n",
       "2                     sol hard flexible either          11          52   \n",
       "3   usually wear 95 trying store first went 10          19          81   \n",
       "4                                    kinvara 4           7          33   \n",
       "..                                         ...         ...         ...   \n",
       "75                                    everyday           4          32   \n",
       "77      perfect next 5 k 12 day love heel city          23          99   \n",
       "78                              walking runner          12          51   \n",
       "79         new balance support well light wear          12          64   \n",
       "80                                 loved light           6          28   \n",
       "\n",
       "    avg_word  sentiment  \n",
       "0   3.500000   0.250000  \n",
       "1   3.350000  -0.109524  \n",
       "2   3.818182  -0.291667  \n",
       "3   3.315789   0.000000  \n",
       "4   3.857143   0.000000  \n",
       "..       ...        ...  \n",
       "75  7.250000  -0.200000  \n",
       "77  3.347826   0.500000  \n",
       "78  3.333333   0.000000  \n",
       "79  4.416667   0.268182  \n",
       "80  3.833333   0.550000  \n",
       "\n",
       "[75 rows x 5 columns]"
      ]
     },
     "execution_count": 43,
     "metadata": {},
     "output_type": "execute_result"
    }
   ],
   "source": [
    "final_text = review_text.drop_duplicates(subset=['Text'])\n",
    "final_text"
   ]
  },
  {
   "cell_type": "code",
   "execution_count": null,
   "id": "543aebab",
   "metadata": {},
   "outputs": [],
   "source": []
  }
 ],
 "metadata": {
  "kernelspec": {
   "display_name": "Python 3 (ipykernel)",
   "language": "python",
   "name": "python3"
  },
  "language_info": {
   "codemirror_mode": {
    "name": "ipython",
    "version": 3
   },
   "file_extension": ".py",
   "mimetype": "text/x-python",
   "name": "python",
   "nbconvert_exporter": "python",
   "pygments_lexer": "ipython3",
   "version": "3.9.7"
  }
 },
 "nbformat": 4,
 "nbformat_minor": 5
}
