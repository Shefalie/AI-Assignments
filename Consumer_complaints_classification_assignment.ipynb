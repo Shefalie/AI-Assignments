{
  "nbformat": 4,
  "nbformat_minor": 0,
  "metadata": {
    "colab": {
      "name": "Consumer complaints classification assignment.ipynb",
      "provenance": []
    },
    "kernelspec": {
      "name": "python3",
      "display_name": "Python 3"
    },
    "language_info": {
      "name": "python"
    }
  },
  "cells": [
    {
      "cell_type": "code",
      "execution_count": 1,
      "metadata": {
        "colab": {
          "base_uri": "https://localhost:8080/"
        },
        "id": "IvnkW1tDDDDT",
        "outputId": "3b19d861-410b-49e1-9f47-55de4e8252a0"
      },
      "outputs": [
        {
          "output_type": "stream",
          "name": "stdout",
          "text": [
            "[nltk_data] Downloading package stopwords to /root/nltk_data...\n",
            "[nltk_data]   Unzipping corpora/stopwords.zip.\n"
          ]
        }
      ],
      "source": [
        "import numpy as np\n",
        "import pandas as pd\n",
        "from plotly.offline import iplot\n",
        "import matplotlib.pyplot as plt\n",
        "import seaborn as sns\n",
        "from tensorflow.keras.preprocessing.text import Tokenizer\n",
        "from tensorflow.keras.preprocessing.sequence import pad_sequences\n",
        "from tensorflow.keras.models import Sequential\n",
        "from tensorflow.keras.layers import Dense, Embedding, LSTM, SpatialDropout1D\n",
        "from sklearn.model_selection import train_test_split\n",
        "from keras.utils.np_utils import to_categorical\n",
        "from tensorflow.keras.callbacks import EarlyStopping\n",
        "from tensorflow.keras.layers import Dropout\n",
        "import re\n",
        "import nltk\n",
        "nltk.download('stopwords')\n",
        "from nltk.corpus import stopwords\n",
        "from nltk import word_tokenize\n",
        "STOPWORDS = set(stopwords.words('english'))\n",
        "import warnings\n",
        "warnings.filterwarnings(\"ignore\")"
      ]
    },
    {
      "cell_type": "code",
      "source": [
        "Data = pd.read_csv('/content/sample_data/consumer_complaints.csv',encoding = 'latin1')\n",
        "Data.head()"
      ],
      "metadata": {
        "colab": {
          "base_uri": "https://localhost:8080/",
          "height": 444
        },
        "id": "9_li3nPODawz",
        "outputId": "cc218547-d74e-4a99-b3c8-c64c7ed8748f"
      },
      "execution_count": 19,
      "outputs": [
        {
          "output_type": "execute_result",
          "data": {
            "text/plain": [
              "  date_received           product               sub_product  \\\n",
              "0    08/30/2013          Mortgage            Other mortgage   \n",
              "1    08/30/2013          Mortgage            Other mortgage   \n",
              "2    08/30/2013  Credit reporting                       NaN   \n",
              "3    08/30/2013      Student loan  Non-federal student loan   \n",
              "4    08/30/2013   Debt collection               Credit card   \n",
              "\n",
              "                                      issue  \\\n",
              "0  Loan modification,collection,foreclosure   \n",
              "1  Loan servicing, payments, escrow account   \n",
              "2    Incorrect information on credit report   \n",
              "3                        Repaying your loan   \n",
              "4        False statements or representation   \n",
              "\n",
              "                           sub_issue consumer_complaint_narrative  \\\n",
              "0                                NaN                          NaN   \n",
              "1                                NaN                          NaN   \n",
              "2                     Account status                          NaN   \n",
              "3                 Repaying your loan                          NaN   \n",
              "4  Attempted to collect wrong amount                          NaN   \n",
              "\n",
              "  company_public_response                          company state zipcode tags  \\\n",
              "0                     NaN                     U.S. Bancorp    CA   95993  NaN   \n",
              "1                     NaN            Wells Fargo & Company    CA   91104  NaN   \n",
              "2                     NaN            Wells Fargo & Company    NY   11764  NaN   \n",
              "3                     NaN          Navient Solutions, Inc.    MD   21402  NaN   \n",
              "4                     NaN  Resurgent Capital Services L.P.    GA   30106  NaN   \n",
              "\n",
              "  consumer_consent_provided submitted_via date_sent_to_company  \\\n",
              "0                       NaN      Referral           09/03/2013   \n",
              "1                       NaN      Referral           09/03/2013   \n",
              "2                       NaN   Postal mail           09/18/2013   \n",
              "3                       NaN         Email           08/30/2013   \n",
              "4                       NaN           Web           08/30/2013   \n",
              "\n",
              "  company_response_to_consumer timely_response consumer_disputed?  \\\n",
              "0      Closed with explanation             Yes                Yes   \n",
              "1      Closed with explanation             Yes                Yes   \n",
              "2      Closed with explanation             Yes                 No   \n",
              "3      Closed with explanation             Yes                Yes   \n",
              "4      Closed with explanation             Yes                Yes   \n",
              "\n",
              "   complaint_id  \n",
              "0      511074.0  \n",
              "1      511080.0  \n",
              "2      510473.0  \n",
              "3      510326.0  \n",
              "4      511067.0  "
            ],
            "text/html": [
              "\n",
              "  <div id=\"df-5ca9d71b-06cd-4a1b-a8cf-4583d209f98a\">\n",
              "    <div class=\"colab-df-container\">\n",
              "      <div>\n",
              "<style scoped>\n",
              "    .dataframe tbody tr th:only-of-type {\n",
              "        vertical-align: middle;\n",
              "    }\n",
              "\n",
              "    .dataframe tbody tr th {\n",
              "        vertical-align: top;\n",
              "    }\n",
              "\n",
              "    .dataframe thead th {\n",
              "        text-align: right;\n",
              "    }\n",
              "</style>\n",
              "<table border=\"1\" class=\"dataframe\">\n",
              "  <thead>\n",
              "    <tr style=\"text-align: right;\">\n",
              "      <th></th>\n",
              "      <th>date_received</th>\n",
              "      <th>product</th>\n",
              "      <th>sub_product</th>\n",
              "      <th>issue</th>\n",
              "      <th>sub_issue</th>\n",
              "      <th>consumer_complaint_narrative</th>\n",
              "      <th>company_public_response</th>\n",
              "      <th>company</th>\n",
              "      <th>state</th>\n",
              "      <th>zipcode</th>\n",
              "      <th>tags</th>\n",
              "      <th>consumer_consent_provided</th>\n",
              "      <th>submitted_via</th>\n",
              "      <th>date_sent_to_company</th>\n",
              "      <th>company_response_to_consumer</th>\n",
              "      <th>timely_response</th>\n",
              "      <th>consumer_disputed?</th>\n",
              "      <th>complaint_id</th>\n",
              "    </tr>\n",
              "  </thead>\n",
              "  <tbody>\n",
              "    <tr>\n",
              "      <th>0</th>\n",
              "      <td>08/30/2013</td>\n",
              "      <td>Mortgage</td>\n",
              "      <td>Other mortgage</td>\n",
              "      <td>Loan modification,collection,foreclosure</td>\n",
              "      <td>NaN</td>\n",
              "      <td>NaN</td>\n",
              "      <td>NaN</td>\n",
              "      <td>U.S. Bancorp</td>\n",
              "      <td>CA</td>\n",
              "      <td>95993</td>\n",
              "      <td>NaN</td>\n",
              "      <td>NaN</td>\n",
              "      <td>Referral</td>\n",
              "      <td>09/03/2013</td>\n",
              "      <td>Closed with explanation</td>\n",
              "      <td>Yes</td>\n",
              "      <td>Yes</td>\n",
              "      <td>511074.0</td>\n",
              "    </tr>\n",
              "    <tr>\n",
              "      <th>1</th>\n",
              "      <td>08/30/2013</td>\n",
              "      <td>Mortgage</td>\n",
              "      <td>Other mortgage</td>\n",
              "      <td>Loan servicing, payments, escrow account</td>\n",
              "      <td>NaN</td>\n",
              "      <td>NaN</td>\n",
              "      <td>NaN</td>\n",
              "      <td>Wells Fargo &amp; Company</td>\n",
              "      <td>CA</td>\n",
              "      <td>91104</td>\n",
              "      <td>NaN</td>\n",
              "      <td>NaN</td>\n",
              "      <td>Referral</td>\n",
              "      <td>09/03/2013</td>\n",
              "      <td>Closed with explanation</td>\n",
              "      <td>Yes</td>\n",
              "      <td>Yes</td>\n",
              "      <td>511080.0</td>\n",
              "    </tr>\n",
              "    <tr>\n",
              "      <th>2</th>\n",
              "      <td>08/30/2013</td>\n",
              "      <td>Credit reporting</td>\n",
              "      <td>NaN</td>\n",
              "      <td>Incorrect information on credit report</td>\n",
              "      <td>Account status</td>\n",
              "      <td>NaN</td>\n",
              "      <td>NaN</td>\n",
              "      <td>Wells Fargo &amp; Company</td>\n",
              "      <td>NY</td>\n",
              "      <td>11764</td>\n",
              "      <td>NaN</td>\n",
              "      <td>NaN</td>\n",
              "      <td>Postal mail</td>\n",
              "      <td>09/18/2013</td>\n",
              "      <td>Closed with explanation</td>\n",
              "      <td>Yes</td>\n",
              "      <td>No</td>\n",
              "      <td>510473.0</td>\n",
              "    </tr>\n",
              "    <tr>\n",
              "      <th>3</th>\n",
              "      <td>08/30/2013</td>\n",
              "      <td>Student loan</td>\n",
              "      <td>Non-federal student loan</td>\n",
              "      <td>Repaying your loan</td>\n",
              "      <td>Repaying your loan</td>\n",
              "      <td>NaN</td>\n",
              "      <td>NaN</td>\n",
              "      <td>Navient Solutions, Inc.</td>\n",
              "      <td>MD</td>\n",
              "      <td>21402</td>\n",
              "      <td>NaN</td>\n",
              "      <td>NaN</td>\n",
              "      <td>Email</td>\n",
              "      <td>08/30/2013</td>\n",
              "      <td>Closed with explanation</td>\n",
              "      <td>Yes</td>\n",
              "      <td>Yes</td>\n",
              "      <td>510326.0</td>\n",
              "    </tr>\n",
              "    <tr>\n",
              "      <th>4</th>\n",
              "      <td>08/30/2013</td>\n",
              "      <td>Debt collection</td>\n",
              "      <td>Credit card</td>\n",
              "      <td>False statements or representation</td>\n",
              "      <td>Attempted to collect wrong amount</td>\n",
              "      <td>NaN</td>\n",
              "      <td>NaN</td>\n",
              "      <td>Resurgent Capital Services L.P.</td>\n",
              "      <td>GA</td>\n",
              "      <td>30106</td>\n",
              "      <td>NaN</td>\n",
              "      <td>NaN</td>\n",
              "      <td>Web</td>\n",
              "      <td>08/30/2013</td>\n",
              "      <td>Closed with explanation</td>\n",
              "      <td>Yes</td>\n",
              "      <td>Yes</td>\n",
              "      <td>511067.0</td>\n",
              "    </tr>\n",
              "  </tbody>\n",
              "</table>\n",
              "</div>\n",
              "      <button class=\"colab-df-convert\" onclick=\"convertToInteractive('df-5ca9d71b-06cd-4a1b-a8cf-4583d209f98a')\"\n",
              "              title=\"Convert this dataframe to an interactive table.\"\n",
              "              style=\"display:none;\">\n",
              "        \n",
              "  <svg xmlns=\"http://www.w3.org/2000/svg\" height=\"24px\"viewBox=\"0 0 24 24\"\n",
              "       width=\"24px\">\n",
              "    <path d=\"M0 0h24v24H0V0z\" fill=\"none\"/>\n",
              "    <path d=\"M18.56 5.44l.94 2.06.94-2.06 2.06-.94-2.06-.94-.94-2.06-.94 2.06-2.06.94zm-11 1L8.5 8.5l.94-2.06 2.06-.94-2.06-.94L8.5 2.5l-.94 2.06-2.06.94zm10 10l.94 2.06.94-2.06 2.06-.94-2.06-.94-.94-2.06-.94 2.06-2.06.94z\"/><path d=\"M17.41 7.96l-1.37-1.37c-.4-.4-.92-.59-1.43-.59-.52 0-1.04.2-1.43.59L10.3 9.45l-7.72 7.72c-.78.78-.78 2.05 0 2.83L4 21.41c.39.39.9.59 1.41.59.51 0 1.02-.2 1.41-.59l7.78-7.78 2.81-2.81c.8-.78.8-2.07 0-2.86zM5.41 20L4 18.59l7.72-7.72 1.47 1.35L5.41 20z\"/>\n",
              "  </svg>\n",
              "      </button>\n",
              "      \n",
              "  <style>\n",
              "    .colab-df-container {\n",
              "      display:flex;\n",
              "      flex-wrap:wrap;\n",
              "      gap: 12px;\n",
              "    }\n",
              "\n",
              "    .colab-df-convert {\n",
              "      background-color: #E8F0FE;\n",
              "      border: none;\n",
              "      border-radius: 50%;\n",
              "      cursor: pointer;\n",
              "      display: none;\n",
              "      fill: #1967D2;\n",
              "      height: 32px;\n",
              "      padding: 0 0 0 0;\n",
              "      width: 32px;\n",
              "    }\n",
              "\n",
              "    .colab-df-convert:hover {\n",
              "      background-color: #E2EBFA;\n",
              "      box-shadow: 0px 1px 2px rgba(60, 64, 67, 0.3), 0px 1px 3px 1px rgba(60, 64, 67, 0.15);\n",
              "      fill: #174EA6;\n",
              "    }\n",
              "\n",
              "    [theme=dark] .colab-df-convert {\n",
              "      background-color: #3B4455;\n",
              "      fill: #D2E3FC;\n",
              "    }\n",
              "\n",
              "    [theme=dark] .colab-df-convert:hover {\n",
              "      background-color: #434B5C;\n",
              "      box-shadow: 0px 1px 3px 1px rgba(0, 0, 0, 0.15);\n",
              "      filter: drop-shadow(0px 1px 2px rgba(0, 0, 0, 0.3));\n",
              "      fill: #FFFFFF;\n",
              "    }\n",
              "  </style>\n",
              "\n",
              "      <script>\n",
              "        const buttonEl =\n",
              "          document.querySelector('#df-5ca9d71b-06cd-4a1b-a8cf-4583d209f98a button.colab-df-convert');\n",
              "        buttonEl.style.display =\n",
              "          google.colab.kernel.accessAllowed ? 'block' : 'none';\n",
              "\n",
              "        async function convertToInteractive(key) {\n",
              "          const element = document.querySelector('#df-5ca9d71b-06cd-4a1b-a8cf-4583d209f98a');\n",
              "          const dataTable =\n",
              "            await google.colab.kernel.invokeFunction('convertToInteractive',\n",
              "                                                     [key], {});\n",
              "          if (!dataTable) return;\n",
              "\n",
              "          const docLinkHtml = 'Like what you see? Visit the ' +\n",
              "            '<a target=\"_blank\" href=https://colab.research.google.com/notebooks/data_table.ipynb>data table notebook</a>'\n",
              "            + ' to learn more about interactive tables.';\n",
              "          element.innerHTML = '';\n",
              "          dataTable['output_type'] = 'display_data';\n",
              "          await google.colab.output.renderOutput(dataTable, element);\n",
              "          const docLink = document.createElement('div');\n",
              "          docLink.innerHTML = docLinkHtml;\n",
              "          element.appendChild(docLink);\n",
              "        }\n",
              "      </script>\n",
              "    </div>\n",
              "  </div>\n",
              "  "
            ]
          },
          "metadata": {},
          "execution_count": 19
        }
      ]
    },
    {
      "cell_type": "code",
      "source": [
        "Data.dtypes"
      ],
      "metadata": {
        "colab": {
          "base_uri": "https://localhost:8080/"
        },
        "id": "Yi-mXTc0Da0E",
        "outputId": "bda1b85d-4348-475d-9256-f58f551312b0"
      },
      "execution_count": 20,
      "outputs": [
        {
          "output_type": "execute_result",
          "data": {
            "text/plain": [
              "date_received                    object\n",
              "product                          object\n",
              "sub_product                      object\n",
              "issue                            object\n",
              "sub_issue                        object\n",
              "consumer_complaint_narrative     object\n",
              "company_public_response          object\n",
              "company                          object\n",
              "state                            object\n",
              "zipcode                          object\n",
              "tags                             object\n",
              "consumer_consent_provided        object\n",
              "submitted_via                    object\n",
              "date_sent_to_company             object\n",
              "company_response_to_consumer     object\n",
              "timely_response                  object\n",
              "consumer_disputed?               object\n",
              "complaint_id                    float64\n",
              "dtype: object"
            ]
          },
          "metadata": {},
          "execution_count": 20
        }
      ]
    },
    {
      "cell_type": "code",
      "source": [
        "Data.describe(include=\"all\")"
      ],
      "metadata": {
        "id": "V7XHFb7uYOcF",
        "colab": {
          "base_uri": "https://localhost:8080/",
          "height": 475
        },
        "outputId": "0c169132-0bdd-415f-a937-5f4973ac0142"
      },
      "execution_count": 22,
      "outputs": [
        {
          "output_type": "execute_result",
          "data": {
            "text/plain": [
              "       date_received   product     sub_product  \\\n",
              "count         210055    210055          151241   \n",
              "unique           560        11              46   \n",
              "top       06/26/2014  Mortgage  Other mortgage   \n",
              "freq             889     58447           20005   \n",
              "mean             NaN       NaN             NaN   \n",
              "std              NaN       NaN             NaN   \n",
              "min              NaN       NaN             NaN   \n",
              "25%              NaN       NaN             NaN   \n",
              "50%              NaN       NaN             NaN   \n",
              "75%              NaN       NaN             NaN   \n",
              "max              NaN       NaN             NaN   \n",
              "\n",
              "                                           issue         sub_issue  \\\n",
              "count                                     210055            100943   \n",
              "unique                                        92                68   \n",
              "top     Loan modification,collection,foreclosure  Debt is not mine   \n",
              "freq                                       28790             14042   \n",
              "mean                                         NaN               NaN   \n",
              "std                                          NaN               NaN   \n",
              "min                                          NaN               NaN   \n",
              "25%                                          NaN               NaN   \n",
              "50%                                          NaN               NaN   \n",
              "75%                                          NaN               NaN   \n",
              "max                                          NaN               NaN   \n",
              "\n",
              "                             consumer_complaint_narrative  \\\n",
              "count                                                2337   \n",
              "unique                                               2295   \n",
              "top     This company continues to report on my credit ...   \n",
              "freq                                                   19   \n",
              "mean                                                  NaN   \n",
              "std                                                   NaN   \n",
              "min                                                   NaN   \n",
              "25%                                                   NaN   \n",
              "50%                                                   NaN   \n",
              "75%                                                   NaN   \n",
              "max                                                   NaN   \n",
              "\n",
              "                                 company_public_response          company  \\\n",
              "count                                               3180           210054   \n",
              "unique                                                 9             2641   \n",
              "top     Company chooses not to provide a public response  Bank of America   \n",
              "freq                                                1893            14226   \n",
              "mean                                                 NaN              NaN   \n",
              "std                                                  NaN              NaN   \n",
              "min                                                  NaN              NaN   \n",
              "25%                                                  NaN              NaN   \n",
              "50%                                                  NaN              NaN   \n",
              "75%                                                  NaN              NaN   \n",
              "max                                                  NaN              NaN   \n",
              "\n",
              "         state zipcode            tags consumer_consent_provided  \\\n",
              "count   208986  209361           30889                      5017   \n",
              "unique      62   20995               3                         3   \n",
              "top         CA   76116  Older American      Consent not provided   \n",
              "freq     29496     317           17456                      2497   \n",
              "mean       NaN     NaN             NaN                       NaN   \n",
              "std        NaN     NaN             NaN                       NaN   \n",
              "min        NaN     NaN             NaN                       NaN   \n",
              "25%        NaN     NaN             NaN                       NaN   \n",
              "50%        NaN     NaN             NaN                       NaN   \n",
              "75%        NaN     NaN             NaN                       NaN   \n",
              "max        NaN     NaN             NaN                       NaN   \n",
              "\n",
              "       submitted_via date_sent_to_company company_response_to_consumer  \\\n",
              "count         210054               210054                       210054   \n",
              "unique             6                  631                            5   \n",
              "top              Web           03/12/2014      Closed with explanation   \n",
              "freq          146777                  903                       161580   \n",
              "mean             NaN                  NaN                          NaN   \n",
              "std              NaN                  NaN                          NaN   \n",
              "min              NaN                  NaN                          NaN   \n",
              "25%              NaN                  NaN                          NaN   \n",
              "50%              NaN                  NaN                          NaN   \n",
              "75%              NaN                  NaN                          NaN   \n",
              "max              NaN                  NaN                          NaN   \n",
              "\n",
              "       timely_response consumer_disputed?  complaint_id  \n",
              "count           210054             210054  2.100540e+05  \n",
              "unique               2                  2           NaN  \n",
              "top                Yes                 No           NaN  \n",
              "freq            204926             168473           NaN  \n",
              "mean               NaN                NaN  9.485122e+05  \n",
              "std                NaN                NaN  2.172313e+05  \n",
              "min                NaN                NaN  5.099440e+05  \n",
              "25%                NaN                NaN  7.695862e+05  \n",
              "50%                NaN                NaN  9.514035e+05  \n",
              "75%                NaN                NaN  1.135887e+06  \n",
              "max                NaN                NaN  1.499536e+06  "
            ],
            "text/html": [
              "\n",
              "  <div id=\"df-3f62d133-cc75-4ab8-9d64-c43fdf3a75a7\">\n",
              "    <div class=\"colab-df-container\">\n",
              "      <div>\n",
              "<style scoped>\n",
              "    .dataframe tbody tr th:only-of-type {\n",
              "        vertical-align: middle;\n",
              "    }\n",
              "\n",
              "    .dataframe tbody tr th {\n",
              "        vertical-align: top;\n",
              "    }\n",
              "\n",
              "    .dataframe thead th {\n",
              "        text-align: right;\n",
              "    }\n",
              "</style>\n",
              "<table border=\"1\" class=\"dataframe\">\n",
              "  <thead>\n",
              "    <tr style=\"text-align: right;\">\n",
              "      <th></th>\n",
              "      <th>date_received</th>\n",
              "      <th>product</th>\n",
              "      <th>sub_product</th>\n",
              "      <th>issue</th>\n",
              "      <th>sub_issue</th>\n",
              "      <th>consumer_complaint_narrative</th>\n",
              "      <th>company_public_response</th>\n",
              "      <th>company</th>\n",
              "      <th>state</th>\n",
              "      <th>zipcode</th>\n",
              "      <th>tags</th>\n",
              "      <th>consumer_consent_provided</th>\n",
              "      <th>submitted_via</th>\n",
              "      <th>date_sent_to_company</th>\n",
              "      <th>company_response_to_consumer</th>\n",
              "      <th>timely_response</th>\n",
              "      <th>consumer_disputed?</th>\n",
              "      <th>complaint_id</th>\n",
              "    </tr>\n",
              "  </thead>\n",
              "  <tbody>\n",
              "    <tr>\n",
              "      <th>count</th>\n",
              "      <td>210055</td>\n",
              "      <td>210055</td>\n",
              "      <td>151241</td>\n",
              "      <td>210055</td>\n",
              "      <td>100943</td>\n",
              "      <td>2337</td>\n",
              "      <td>3180</td>\n",
              "      <td>210054</td>\n",
              "      <td>208986</td>\n",
              "      <td>209361</td>\n",
              "      <td>30889</td>\n",
              "      <td>5017</td>\n",
              "      <td>210054</td>\n",
              "      <td>210054</td>\n",
              "      <td>210054</td>\n",
              "      <td>210054</td>\n",
              "      <td>210054</td>\n",
              "      <td>2.100540e+05</td>\n",
              "    </tr>\n",
              "    <tr>\n",
              "      <th>unique</th>\n",
              "      <td>560</td>\n",
              "      <td>11</td>\n",
              "      <td>46</td>\n",
              "      <td>92</td>\n",
              "      <td>68</td>\n",
              "      <td>2295</td>\n",
              "      <td>9</td>\n",
              "      <td>2641</td>\n",
              "      <td>62</td>\n",
              "      <td>20995</td>\n",
              "      <td>3</td>\n",
              "      <td>3</td>\n",
              "      <td>6</td>\n",
              "      <td>631</td>\n",
              "      <td>5</td>\n",
              "      <td>2</td>\n",
              "      <td>2</td>\n",
              "      <td>NaN</td>\n",
              "    </tr>\n",
              "    <tr>\n",
              "      <th>top</th>\n",
              "      <td>06/26/2014</td>\n",
              "      <td>Mortgage</td>\n",
              "      <td>Other mortgage</td>\n",
              "      <td>Loan modification,collection,foreclosure</td>\n",
              "      <td>Debt is not mine</td>\n",
              "      <td>This company continues to report on my credit ...</td>\n",
              "      <td>Company chooses not to provide a public response</td>\n",
              "      <td>Bank of America</td>\n",
              "      <td>CA</td>\n",
              "      <td>76116</td>\n",
              "      <td>Older American</td>\n",
              "      <td>Consent not provided</td>\n",
              "      <td>Web</td>\n",
              "      <td>03/12/2014</td>\n",
              "      <td>Closed with explanation</td>\n",
              "      <td>Yes</td>\n",
              "      <td>No</td>\n",
              "      <td>NaN</td>\n",
              "    </tr>\n",
              "    <tr>\n",
              "      <th>freq</th>\n",
              "      <td>889</td>\n",
              "      <td>58447</td>\n",
              "      <td>20005</td>\n",
              "      <td>28790</td>\n",
              "      <td>14042</td>\n",
              "      <td>19</td>\n",
              "      <td>1893</td>\n",
              "      <td>14226</td>\n",
              "      <td>29496</td>\n",
              "      <td>317</td>\n",
              "      <td>17456</td>\n",
              "      <td>2497</td>\n",
              "      <td>146777</td>\n",
              "      <td>903</td>\n",
              "      <td>161580</td>\n",
              "      <td>204926</td>\n",
              "      <td>168473</td>\n",
              "      <td>NaN</td>\n",
              "    </tr>\n",
              "    <tr>\n",
              "      <th>mean</th>\n",
              "      <td>NaN</td>\n",
              "      <td>NaN</td>\n",
              "      <td>NaN</td>\n",
              "      <td>NaN</td>\n",
              "      <td>NaN</td>\n",
              "      <td>NaN</td>\n",
              "      <td>NaN</td>\n",
              "      <td>NaN</td>\n",
              "      <td>NaN</td>\n",
              "      <td>NaN</td>\n",
              "      <td>NaN</td>\n",
              "      <td>NaN</td>\n",
              "      <td>NaN</td>\n",
              "      <td>NaN</td>\n",
              "      <td>NaN</td>\n",
              "      <td>NaN</td>\n",
              "      <td>NaN</td>\n",
              "      <td>9.485122e+05</td>\n",
              "    </tr>\n",
              "    <tr>\n",
              "      <th>std</th>\n",
              "      <td>NaN</td>\n",
              "      <td>NaN</td>\n",
              "      <td>NaN</td>\n",
              "      <td>NaN</td>\n",
              "      <td>NaN</td>\n",
              "      <td>NaN</td>\n",
              "      <td>NaN</td>\n",
              "      <td>NaN</td>\n",
              "      <td>NaN</td>\n",
              "      <td>NaN</td>\n",
              "      <td>NaN</td>\n",
              "      <td>NaN</td>\n",
              "      <td>NaN</td>\n",
              "      <td>NaN</td>\n",
              "      <td>NaN</td>\n",
              "      <td>NaN</td>\n",
              "      <td>NaN</td>\n",
              "      <td>2.172313e+05</td>\n",
              "    </tr>\n",
              "    <tr>\n",
              "      <th>min</th>\n",
              "      <td>NaN</td>\n",
              "      <td>NaN</td>\n",
              "      <td>NaN</td>\n",
              "      <td>NaN</td>\n",
              "      <td>NaN</td>\n",
              "      <td>NaN</td>\n",
              "      <td>NaN</td>\n",
              "      <td>NaN</td>\n",
              "      <td>NaN</td>\n",
              "      <td>NaN</td>\n",
              "      <td>NaN</td>\n",
              "      <td>NaN</td>\n",
              "      <td>NaN</td>\n",
              "      <td>NaN</td>\n",
              "      <td>NaN</td>\n",
              "      <td>NaN</td>\n",
              "      <td>NaN</td>\n",
              "      <td>5.099440e+05</td>\n",
              "    </tr>\n",
              "    <tr>\n",
              "      <th>25%</th>\n",
              "      <td>NaN</td>\n",
              "      <td>NaN</td>\n",
              "      <td>NaN</td>\n",
              "      <td>NaN</td>\n",
              "      <td>NaN</td>\n",
              "      <td>NaN</td>\n",
              "      <td>NaN</td>\n",
              "      <td>NaN</td>\n",
              "      <td>NaN</td>\n",
              "      <td>NaN</td>\n",
              "      <td>NaN</td>\n",
              "      <td>NaN</td>\n",
              "      <td>NaN</td>\n",
              "      <td>NaN</td>\n",
              "      <td>NaN</td>\n",
              "      <td>NaN</td>\n",
              "      <td>NaN</td>\n",
              "      <td>7.695862e+05</td>\n",
              "    </tr>\n",
              "    <tr>\n",
              "      <th>50%</th>\n",
              "      <td>NaN</td>\n",
              "      <td>NaN</td>\n",
              "      <td>NaN</td>\n",
              "      <td>NaN</td>\n",
              "      <td>NaN</td>\n",
              "      <td>NaN</td>\n",
              "      <td>NaN</td>\n",
              "      <td>NaN</td>\n",
              "      <td>NaN</td>\n",
              "      <td>NaN</td>\n",
              "      <td>NaN</td>\n",
              "      <td>NaN</td>\n",
              "      <td>NaN</td>\n",
              "      <td>NaN</td>\n",
              "      <td>NaN</td>\n",
              "      <td>NaN</td>\n",
              "      <td>NaN</td>\n",
              "      <td>9.514035e+05</td>\n",
              "    </tr>\n",
              "    <tr>\n",
              "      <th>75%</th>\n",
              "      <td>NaN</td>\n",
              "      <td>NaN</td>\n",
              "      <td>NaN</td>\n",
              "      <td>NaN</td>\n",
              "      <td>NaN</td>\n",
              "      <td>NaN</td>\n",
              "      <td>NaN</td>\n",
              "      <td>NaN</td>\n",
              "      <td>NaN</td>\n",
              "      <td>NaN</td>\n",
              "      <td>NaN</td>\n",
              "      <td>NaN</td>\n",
              "      <td>NaN</td>\n",
              "      <td>NaN</td>\n",
              "      <td>NaN</td>\n",
              "      <td>NaN</td>\n",
              "      <td>NaN</td>\n",
              "      <td>1.135887e+06</td>\n",
              "    </tr>\n",
              "    <tr>\n",
              "      <th>max</th>\n",
              "      <td>NaN</td>\n",
              "      <td>NaN</td>\n",
              "      <td>NaN</td>\n",
              "      <td>NaN</td>\n",
              "      <td>NaN</td>\n",
              "      <td>NaN</td>\n",
              "      <td>NaN</td>\n",
              "      <td>NaN</td>\n",
              "      <td>NaN</td>\n",
              "      <td>NaN</td>\n",
              "      <td>NaN</td>\n",
              "      <td>NaN</td>\n",
              "      <td>NaN</td>\n",
              "      <td>NaN</td>\n",
              "      <td>NaN</td>\n",
              "      <td>NaN</td>\n",
              "      <td>NaN</td>\n",
              "      <td>1.499536e+06</td>\n",
              "    </tr>\n",
              "  </tbody>\n",
              "</table>\n",
              "</div>\n",
              "      <button class=\"colab-df-convert\" onclick=\"convertToInteractive('df-3f62d133-cc75-4ab8-9d64-c43fdf3a75a7')\"\n",
              "              title=\"Convert this dataframe to an interactive table.\"\n",
              "              style=\"display:none;\">\n",
              "        \n",
              "  <svg xmlns=\"http://www.w3.org/2000/svg\" height=\"24px\"viewBox=\"0 0 24 24\"\n",
              "       width=\"24px\">\n",
              "    <path d=\"M0 0h24v24H0V0z\" fill=\"none\"/>\n",
              "    <path d=\"M18.56 5.44l.94 2.06.94-2.06 2.06-.94-2.06-.94-.94-2.06-.94 2.06-2.06.94zm-11 1L8.5 8.5l.94-2.06 2.06-.94-2.06-.94L8.5 2.5l-.94 2.06-2.06.94zm10 10l.94 2.06.94-2.06 2.06-.94-2.06-.94-.94-2.06-.94 2.06-2.06.94z\"/><path d=\"M17.41 7.96l-1.37-1.37c-.4-.4-.92-.59-1.43-.59-.52 0-1.04.2-1.43.59L10.3 9.45l-7.72 7.72c-.78.78-.78 2.05 0 2.83L4 21.41c.39.39.9.59 1.41.59.51 0 1.02-.2 1.41-.59l7.78-7.78 2.81-2.81c.8-.78.8-2.07 0-2.86zM5.41 20L4 18.59l7.72-7.72 1.47 1.35L5.41 20z\"/>\n",
              "  </svg>\n",
              "      </button>\n",
              "      \n",
              "  <style>\n",
              "    .colab-df-container {\n",
              "      display:flex;\n",
              "      flex-wrap:wrap;\n",
              "      gap: 12px;\n",
              "    }\n",
              "\n",
              "    .colab-df-convert {\n",
              "      background-color: #E8F0FE;\n",
              "      border: none;\n",
              "      border-radius: 50%;\n",
              "      cursor: pointer;\n",
              "      display: none;\n",
              "      fill: #1967D2;\n",
              "      height: 32px;\n",
              "      padding: 0 0 0 0;\n",
              "      width: 32px;\n",
              "    }\n",
              "\n",
              "    .colab-df-convert:hover {\n",
              "      background-color: #E2EBFA;\n",
              "      box-shadow: 0px 1px 2px rgba(60, 64, 67, 0.3), 0px 1px 3px 1px rgba(60, 64, 67, 0.15);\n",
              "      fill: #174EA6;\n",
              "    }\n",
              "\n",
              "    [theme=dark] .colab-df-convert {\n",
              "      background-color: #3B4455;\n",
              "      fill: #D2E3FC;\n",
              "    }\n",
              "\n",
              "    [theme=dark] .colab-df-convert:hover {\n",
              "      background-color: #434B5C;\n",
              "      box-shadow: 0px 1px 3px 1px rgba(0, 0, 0, 0.15);\n",
              "      filter: drop-shadow(0px 1px 2px rgba(0, 0, 0, 0.3));\n",
              "      fill: #FFFFFF;\n",
              "    }\n",
              "  </style>\n",
              "\n",
              "      <script>\n",
              "        const buttonEl =\n",
              "          document.querySelector('#df-3f62d133-cc75-4ab8-9d64-c43fdf3a75a7 button.colab-df-convert');\n",
              "        buttonEl.style.display =\n",
              "          google.colab.kernel.accessAllowed ? 'block' : 'none';\n",
              "\n",
              "        async function convertToInteractive(key) {\n",
              "          const element = document.querySelector('#df-3f62d133-cc75-4ab8-9d64-c43fdf3a75a7');\n",
              "          const dataTable =\n",
              "            await google.colab.kernel.invokeFunction('convertToInteractive',\n",
              "                                                     [key], {});\n",
              "          if (!dataTable) return;\n",
              "\n",
              "          const docLinkHtml = 'Like what you see? Visit the ' +\n",
              "            '<a target=\"_blank\" href=https://colab.research.google.com/notebooks/data_table.ipynb>data table notebook</a>'\n",
              "            + ' to learn more about interactive tables.';\n",
              "          element.innerHTML = '';\n",
              "          dataTable['output_type'] = 'display_data';\n",
              "          await google.colab.output.renderOutput(dataTable, element);\n",
              "          const docLink = document.createElement('div');\n",
              "          docLink.innerHTML = docLinkHtml;\n",
              "          element.appendChild(docLink);\n",
              "        }\n",
              "      </script>\n",
              "    </div>\n",
              "  </div>\n",
              "  "
            ]
          },
          "metadata": {},
          "execution_count": 22
        }
      ]
    },
    {
      "cell_type": "code",
      "source": [
        "Data.info()"
      ],
      "metadata": {
        "id": "Ln5VM78PYOd-",
        "colab": {
          "base_uri": "https://localhost:8080/"
        },
        "outputId": "c0ba2ceb-d2c1-4e2f-dadc-f44f5cd3ea35"
      },
      "execution_count": 23,
      "outputs": [
        {
          "output_type": "stream",
          "name": "stdout",
          "text": [
            "<class 'pandas.core.frame.DataFrame'>\n",
            "RangeIndex: 210055 entries, 0 to 210054\n",
            "Data columns (total 18 columns):\n",
            " #   Column                        Non-Null Count   Dtype  \n",
            "---  ------                        --------------   -----  \n",
            " 0   date_received                 210055 non-null  object \n",
            " 1   product                       210055 non-null  object \n",
            " 2   sub_product                   151241 non-null  object \n",
            " 3   issue                         210055 non-null  object \n",
            " 4   sub_issue                     100943 non-null  object \n",
            " 5   consumer_complaint_narrative  2337 non-null    object \n",
            " 6   company_public_response       3180 non-null    object \n",
            " 7   company                       210054 non-null  object \n",
            " 8   state                         208986 non-null  object \n",
            " 9   zipcode                       209361 non-null  object \n",
            " 10  tags                          30889 non-null   object \n",
            " 11  consumer_consent_provided     5017 non-null    object \n",
            " 12  submitted_via                 210054 non-null  object \n",
            " 13  date_sent_to_company          210054 non-null  object \n",
            " 14  company_response_to_consumer  210054 non-null  object \n",
            " 15  timely_response               210054 non-null  object \n",
            " 16  consumer_disputed?            210054 non-null  object \n",
            " 17  complaint_id                  210054 non-null  float64\n",
            "dtypes: float64(1), object(17)\n",
            "memory usage: 28.8+ MB\n"
          ]
        }
      ]
    },
    {
      "cell_type": "code",
      "source": [
        "Data.columns"
      ],
      "metadata": {
        "id": "H0d_kc8dI85S",
        "colab": {
          "base_uri": "https://localhost:8080/"
        },
        "outputId": "27cf846b-c78b-4fdc-f4fa-eb1dcaafc3ce"
      },
      "execution_count": 24,
      "outputs": [
        {
          "output_type": "execute_result",
          "data": {
            "text/plain": [
              "Index(['date_received', 'product', 'sub_product', 'issue', 'sub_issue',\n",
              "       'consumer_complaint_narrative', 'company_public_response', 'company',\n",
              "       'state', 'zipcode', 'tags', 'consumer_consent_provided',\n",
              "       'submitted_via', 'date_sent_to_company', 'company_response_to_consumer',\n",
              "       'timely_response', 'consumer_disputed?', 'complaint_id'],\n",
              "      dtype='object')"
            ]
          },
          "metadata": {},
          "execution_count": 24
        }
      ]
    },
    {
      "cell_type": "code",
      "source": [
        "Data.isna().sum()"
      ],
      "metadata": {
        "id": "bi-D7KZHYOg4",
        "colab": {
          "base_uri": "https://localhost:8080/"
        },
        "outputId": "d2ed0347-f683-46ef-e3ff-2753b6b89762"
      },
      "execution_count": 25,
      "outputs": [
        {
          "output_type": "execute_result",
          "data": {
            "text/plain": [
              "date_received                        0\n",
              "product                              0\n",
              "sub_product                      58814\n",
              "issue                                0\n",
              "sub_issue                       109112\n",
              "consumer_complaint_narrative    207718\n",
              "company_public_response         206875\n",
              "company                              1\n",
              "state                             1069\n",
              "zipcode                            694\n",
              "tags                            179166\n",
              "consumer_consent_provided       205038\n",
              "submitted_via                        1\n",
              "date_sent_to_company                 1\n",
              "company_response_to_consumer         1\n",
              "timely_response                      1\n",
              "consumer_disputed?                   1\n",
              "complaint_id                         1\n",
              "dtype: int64"
            ]
          },
          "metadata": {},
          "execution_count": 25
        }
      ]
    },
    {
      "cell_type": "code",
      "source": [
        "pd.notnull(Data['consumer_complaint_narrative']).value_counts()"
      ],
      "metadata": {
        "id": "AZW3GFD_Z7nb",
        "colab": {
          "base_uri": "https://localhost:8080/"
        },
        "outputId": "dabc9ca7-da12-4a53-8797-5b8fa212fa17"
      },
      "execution_count": 26,
      "outputs": [
        {
          "output_type": "execute_result",
          "data": {
            "text/plain": [
              "False    207718\n",
              "True       2337\n",
              "Name: consumer_complaint_narrative, dtype: int64"
            ]
          },
          "metadata": {},
          "execution_count": 26
        }
      ]
    },
    {
      "cell_type": "code",
      "source": [
        "# Exploratory Data Analysis"
      ],
      "metadata": {
        "id": "fZymsx_XZ7rG"
      },
      "execution_count": 27,
      "outputs": []
    },
    {
      "cell_type": "code",
      "source": [
        "data = Data[['consumer_complaint_narrative','product']]\n",
        "data = data.dropna()\n",
        "data.head(1000)"
      ],
      "metadata": {
        "id": "kaWojbiZckNN",
        "colab": {
          "base_uri": "https://localhost:8080/",
          "height": 423
        },
        "outputId": "c24e6144-73d2-415a-9562-d79ff28d7841"
      },
      "execution_count": 28,
      "outputs": [
        {
          "output_type": "execute_result",
          "data": {
            "text/plain": [
              "                             consumer_complaint_narrative  \\\n",
              "190126  XXXX has claimed I owe them {$27.00} for XXXX ...   \n",
              "190135  Due to inconsistencies in the amount owed that...   \n",
              "190155  In XX/XX/XXXX my wages that I earned at my job...   \n",
              "190207  I have an open and current mortgage with Chase...   \n",
              "190208  XXXX was submitted XX/XX/XXXX. At the time I s...   \n",
              "...                                                   ...   \n",
              "203235  On my credit report XXXX is not reporting what...   \n",
              "203241  I have XXXX credit card accounts with capital ...   \n",
              "203244  Bank of America, which is my own bank, took my...   \n",
              "203246  We received a tax abatement and our escrow pay...   \n",
              "203247  MY MORTGAGE WAS BEHIND APPX {$5300.00}. I SENT...   \n",
              "\n",
              "                        product  \n",
              "190126          Debt collection  \n",
              "190135            Consumer Loan  \n",
              "190155                 Mortgage  \n",
              "190207                 Mortgage  \n",
              "190208                 Mortgage  \n",
              "...                         ...  \n",
              "203235            Consumer Loan  \n",
              "203241              Credit card  \n",
              "203244  Bank account or service  \n",
              "203246                 Mortgage  \n",
              "203247                 Mortgage  \n",
              "\n",
              "[1000 rows x 2 columns]"
            ],
            "text/html": [
              "\n",
              "  <div id=\"df-2d0f37cb-4b17-4fa9-bc21-369442e1faf8\">\n",
              "    <div class=\"colab-df-container\">\n",
              "      <div>\n",
              "<style scoped>\n",
              "    .dataframe tbody tr th:only-of-type {\n",
              "        vertical-align: middle;\n",
              "    }\n",
              "\n",
              "    .dataframe tbody tr th {\n",
              "        vertical-align: top;\n",
              "    }\n",
              "\n",
              "    .dataframe thead th {\n",
              "        text-align: right;\n",
              "    }\n",
              "</style>\n",
              "<table border=\"1\" class=\"dataframe\">\n",
              "  <thead>\n",
              "    <tr style=\"text-align: right;\">\n",
              "      <th></th>\n",
              "      <th>consumer_complaint_narrative</th>\n",
              "      <th>product</th>\n",
              "    </tr>\n",
              "  </thead>\n",
              "  <tbody>\n",
              "    <tr>\n",
              "      <th>190126</th>\n",
              "      <td>XXXX has claimed I owe them {$27.00} for XXXX ...</td>\n",
              "      <td>Debt collection</td>\n",
              "    </tr>\n",
              "    <tr>\n",
              "      <th>190135</th>\n",
              "      <td>Due to inconsistencies in the amount owed that...</td>\n",
              "      <td>Consumer Loan</td>\n",
              "    </tr>\n",
              "    <tr>\n",
              "      <th>190155</th>\n",
              "      <td>In XX/XX/XXXX my wages that I earned at my job...</td>\n",
              "      <td>Mortgage</td>\n",
              "    </tr>\n",
              "    <tr>\n",
              "      <th>190207</th>\n",
              "      <td>I have an open and current mortgage with Chase...</td>\n",
              "      <td>Mortgage</td>\n",
              "    </tr>\n",
              "    <tr>\n",
              "      <th>190208</th>\n",
              "      <td>XXXX was submitted XX/XX/XXXX. At the time I s...</td>\n",
              "      <td>Mortgage</td>\n",
              "    </tr>\n",
              "    <tr>\n",
              "      <th>...</th>\n",
              "      <td>...</td>\n",
              "      <td>...</td>\n",
              "    </tr>\n",
              "    <tr>\n",
              "      <th>203235</th>\n",
              "      <td>On my credit report XXXX is not reporting what...</td>\n",
              "      <td>Consumer Loan</td>\n",
              "    </tr>\n",
              "    <tr>\n",
              "      <th>203241</th>\n",
              "      <td>I have XXXX credit card accounts with capital ...</td>\n",
              "      <td>Credit card</td>\n",
              "    </tr>\n",
              "    <tr>\n",
              "      <th>203244</th>\n",
              "      <td>Bank of America, which is my own bank, took my...</td>\n",
              "      <td>Bank account or service</td>\n",
              "    </tr>\n",
              "    <tr>\n",
              "      <th>203246</th>\n",
              "      <td>We received a tax abatement and our escrow pay...</td>\n",
              "      <td>Mortgage</td>\n",
              "    </tr>\n",
              "    <tr>\n",
              "      <th>203247</th>\n",
              "      <td>MY MORTGAGE WAS BEHIND APPX {$5300.00}. I SENT...</td>\n",
              "      <td>Mortgage</td>\n",
              "    </tr>\n",
              "  </tbody>\n",
              "</table>\n",
              "<p>1000 rows × 2 columns</p>\n",
              "</div>\n",
              "      <button class=\"colab-df-convert\" onclick=\"convertToInteractive('df-2d0f37cb-4b17-4fa9-bc21-369442e1faf8')\"\n",
              "              title=\"Convert this dataframe to an interactive table.\"\n",
              "              style=\"display:none;\">\n",
              "        \n",
              "  <svg xmlns=\"http://www.w3.org/2000/svg\" height=\"24px\"viewBox=\"0 0 24 24\"\n",
              "       width=\"24px\">\n",
              "    <path d=\"M0 0h24v24H0V0z\" fill=\"none\"/>\n",
              "    <path d=\"M18.56 5.44l.94 2.06.94-2.06 2.06-.94-2.06-.94-.94-2.06-.94 2.06-2.06.94zm-11 1L8.5 8.5l.94-2.06 2.06-.94-2.06-.94L8.5 2.5l-.94 2.06-2.06.94zm10 10l.94 2.06.94-2.06 2.06-.94-2.06-.94-.94-2.06-.94 2.06-2.06.94z\"/><path d=\"M17.41 7.96l-1.37-1.37c-.4-.4-.92-.59-1.43-.59-.52 0-1.04.2-1.43.59L10.3 9.45l-7.72 7.72c-.78.78-.78 2.05 0 2.83L4 21.41c.39.39.9.59 1.41.59.51 0 1.02-.2 1.41-.59l7.78-7.78 2.81-2.81c.8-.78.8-2.07 0-2.86zM5.41 20L4 18.59l7.72-7.72 1.47 1.35L5.41 20z\"/>\n",
              "  </svg>\n",
              "      </button>\n",
              "      \n",
              "  <style>\n",
              "    .colab-df-container {\n",
              "      display:flex;\n",
              "      flex-wrap:wrap;\n",
              "      gap: 12px;\n",
              "    }\n",
              "\n",
              "    .colab-df-convert {\n",
              "      background-color: #E8F0FE;\n",
              "      border: none;\n",
              "      border-radius: 50%;\n",
              "      cursor: pointer;\n",
              "      display: none;\n",
              "      fill: #1967D2;\n",
              "      height: 32px;\n",
              "      padding: 0 0 0 0;\n",
              "      width: 32px;\n",
              "    }\n",
              "\n",
              "    .colab-df-convert:hover {\n",
              "      background-color: #E2EBFA;\n",
              "      box-shadow: 0px 1px 2px rgba(60, 64, 67, 0.3), 0px 1px 3px 1px rgba(60, 64, 67, 0.15);\n",
              "      fill: #174EA6;\n",
              "    }\n",
              "\n",
              "    [theme=dark] .colab-df-convert {\n",
              "      background-color: #3B4455;\n",
              "      fill: #D2E3FC;\n",
              "    }\n",
              "\n",
              "    [theme=dark] .colab-df-convert:hover {\n",
              "      background-color: #434B5C;\n",
              "      box-shadow: 0px 1px 3px 1px rgba(0, 0, 0, 0.15);\n",
              "      filter: drop-shadow(0px 1px 2px rgba(0, 0, 0, 0.3));\n",
              "      fill: #FFFFFF;\n",
              "    }\n",
              "  </style>\n",
              "\n",
              "      <script>\n",
              "        const buttonEl =\n",
              "          document.querySelector('#df-2d0f37cb-4b17-4fa9-bc21-369442e1faf8 button.colab-df-convert');\n",
              "        buttonEl.style.display =\n",
              "          google.colab.kernel.accessAllowed ? 'block' : 'none';\n",
              "\n",
              "        async function convertToInteractive(key) {\n",
              "          const element = document.querySelector('#df-2d0f37cb-4b17-4fa9-bc21-369442e1faf8');\n",
              "          const dataTable =\n",
              "            await google.colab.kernel.invokeFunction('convertToInteractive',\n",
              "                                                     [key], {});\n",
              "          if (!dataTable) return;\n",
              "\n",
              "          const docLinkHtml = 'Like what you see? Visit the ' +\n",
              "            '<a target=\"_blank\" href=https://colab.research.google.com/notebooks/data_table.ipynb>data table notebook</a>'\n",
              "            + ' to learn more about interactive tables.';\n",
              "          element.innerHTML = '';\n",
              "          dataTable['output_type'] = 'display_data';\n",
              "          await google.colab.output.renderOutput(dataTable, element);\n",
              "          const docLink = document.createElement('div');\n",
              "          docLink.innerHTML = docLinkHtml;\n",
              "          element.appendChild(docLink);\n",
              "        }\n",
              "      </script>\n",
              "    </div>\n",
              "  </div>\n",
              "  "
            ]
          },
          "metadata": {},
          "execution_count": 28
        }
      ]
    },
    {
      "cell_type": "code",
      "source": [
        "data.dtypes"
      ],
      "metadata": {
        "id": "HOlRnJrFWxQ5",
        "colab": {
          "base_uri": "https://localhost:8080/"
        },
        "outputId": "45b46693-d6ab-4bfc-a379-f57dcb5c2df5"
      },
      "execution_count": 29,
      "outputs": [
        {
          "output_type": "execute_result",
          "data": {
            "text/plain": [
              "consumer_complaint_narrative    object\n",
              "product                         object\n",
              "dtype: object"
            ]
          },
          "metadata": {},
          "execution_count": 29
        }
      ]
    },
    {
      "cell_type": "code",
      "source": [
        "data['product'].value_counts()"
      ],
      "metadata": {
        "id": "qAazF7LyckPf",
        "colab": {
          "base_uri": "https://localhost:8080/"
        },
        "outputId": "4314cd81-dc48-4352-a64d-a49f01d71502"
      },
      "execution_count": 30,
      "outputs": [
        {
          "output_type": "execute_result",
          "data": {
            "text/plain": [
              "Debt collection            638\n",
              "Mortgage                   588\n",
              "Credit reporting           361\n",
              "Credit card                265\n",
              "Bank account or service    174\n",
              "Consumer Loan              125\n",
              "Student loan               105\n",
              "Payday loan                 36\n",
              "Money transfers             28\n",
              "Prepaid card                14\n",
              "Other financial service      3\n",
              "Name: product, dtype: int64"
            ]
          },
          "metadata": {},
          "execution_count": 30
        }
      ]
    },
    {
      "cell_type": "code",
      "source": [
        "data['product'].loc[(data['product'] == \"Credit reporting\") | (data['product'] == \"Credit reporting, credit repair services, or other personal consumer reports\") | \n",
        "         (data['product'] == \"Credit card\") | (data['product'] == \"Credit card or prepaid card\") | (data['product'] == \"Prepaid card\")] = \"Credit Card Related\"\n",
        "\n",
        "data['product'].loc[(data['product'] == \"Student loan\") | (data['product'] == \"Consumer Loan\") | \n",
        "         (data['product'] == \"Vehicle loan or lease\") | (data['product'] == \"Payday loan\") | (data['product'] == \"Payday loan, title loan, or personal loan\")] = \"Loan Related\"\n",
        "\n",
        "data['product'].loc[(data['product'] == \"Bank account or service\") | (data['product'] == \"Checking or savings account\") | \n",
        "         (data['product'] == \"Money transfer, virtual currency, or money service\") | (data['product'] == \"Money transfers\")] = \"Bank Services\"\n",
        "\n",
        "data['product'].loc[(data['product'] == \"Debt collection\") | (data['product'] == \"Mortgage\") | \n",
        "         (data['product'] == \"Virtual currency\") | (data['product'] == \"Other financial service\") | (data['product'] == \"Prepaid card\")] = \"Others Services\"\n",
        "\n",
        "data.reset_index(inplace = True)\n",
        "data.drop('index',axis='columns', inplace=True)"
      ],
      "metadata": {
        "id": "568senVzckS5"
      },
      "execution_count": 31,
      "outputs": []
    },
    {
      "cell_type": "code",
      "source": [
        "data['product'].value_counts()"
      ],
      "metadata": {
        "id": "2u-v7YxRJoyE",
        "colab": {
          "base_uri": "https://localhost:8080/"
        },
        "outputId": "ee6e8f1a-0c7d-4cf1-f8ec-e33c5f835db5"
      },
      "execution_count": 32,
      "outputs": [
        {
          "output_type": "execute_result",
          "data": {
            "text/plain": [
              "Others Services        1229\n",
              "Credit Card Related     640\n",
              "Loan Related            266\n",
              "Bank Services           202\n",
              "Name: product, dtype: int64"
            ]
          },
          "metadata": {},
          "execution_count": 32
        }
      ]
    },
    {
      "cell_type": "code",
      "source": [
        "data.head()"
      ],
      "metadata": {
        "id": "76obWTmjJo0L",
        "colab": {
          "base_uri": "https://localhost:8080/",
          "height": 206
        },
        "outputId": "4f1ab2ae-06a8-4cbe-c201-1c4658cb02c2"
      },
      "execution_count": 33,
      "outputs": [
        {
          "output_type": "execute_result",
          "data": {
            "text/plain": [
              "                        consumer_complaint_narrative          product\n",
              "0  XXXX has claimed I owe them {$27.00} for XXXX ...  Others Services\n",
              "1  Due to inconsistencies in the amount owed that...     Loan Related\n",
              "2  In XX/XX/XXXX my wages that I earned at my job...  Others Services\n",
              "3  I have an open and current mortgage with Chase...  Others Services\n",
              "4  XXXX was submitted XX/XX/XXXX. At the time I s...  Others Services"
            ],
            "text/html": [
              "\n",
              "  <div id=\"df-598d4f2b-a543-4b48-ac44-a88ad1430c0e\">\n",
              "    <div class=\"colab-df-container\">\n",
              "      <div>\n",
              "<style scoped>\n",
              "    .dataframe tbody tr th:only-of-type {\n",
              "        vertical-align: middle;\n",
              "    }\n",
              "\n",
              "    .dataframe tbody tr th {\n",
              "        vertical-align: top;\n",
              "    }\n",
              "\n",
              "    .dataframe thead th {\n",
              "        text-align: right;\n",
              "    }\n",
              "</style>\n",
              "<table border=\"1\" class=\"dataframe\">\n",
              "  <thead>\n",
              "    <tr style=\"text-align: right;\">\n",
              "      <th></th>\n",
              "      <th>consumer_complaint_narrative</th>\n",
              "      <th>product</th>\n",
              "    </tr>\n",
              "  </thead>\n",
              "  <tbody>\n",
              "    <tr>\n",
              "      <th>0</th>\n",
              "      <td>XXXX has claimed I owe them {$27.00} for XXXX ...</td>\n",
              "      <td>Others Services</td>\n",
              "    </tr>\n",
              "    <tr>\n",
              "      <th>1</th>\n",
              "      <td>Due to inconsistencies in the amount owed that...</td>\n",
              "      <td>Loan Related</td>\n",
              "    </tr>\n",
              "    <tr>\n",
              "      <th>2</th>\n",
              "      <td>In XX/XX/XXXX my wages that I earned at my job...</td>\n",
              "      <td>Others Services</td>\n",
              "    </tr>\n",
              "    <tr>\n",
              "      <th>3</th>\n",
              "      <td>I have an open and current mortgage with Chase...</td>\n",
              "      <td>Others Services</td>\n",
              "    </tr>\n",
              "    <tr>\n",
              "      <th>4</th>\n",
              "      <td>XXXX was submitted XX/XX/XXXX. At the time I s...</td>\n",
              "      <td>Others Services</td>\n",
              "    </tr>\n",
              "  </tbody>\n",
              "</table>\n",
              "</div>\n",
              "      <button class=\"colab-df-convert\" onclick=\"convertToInteractive('df-598d4f2b-a543-4b48-ac44-a88ad1430c0e')\"\n",
              "              title=\"Convert this dataframe to an interactive table.\"\n",
              "              style=\"display:none;\">\n",
              "        \n",
              "  <svg xmlns=\"http://www.w3.org/2000/svg\" height=\"24px\"viewBox=\"0 0 24 24\"\n",
              "       width=\"24px\">\n",
              "    <path d=\"M0 0h24v24H0V0z\" fill=\"none\"/>\n",
              "    <path d=\"M18.56 5.44l.94 2.06.94-2.06 2.06-.94-2.06-.94-.94-2.06-.94 2.06-2.06.94zm-11 1L8.5 8.5l.94-2.06 2.06-.94-2.06-.94L8.5 2.5l-.94 2.06-2.06.94zm10 10l.94 2.06.94-2.06 2.06-.94-2.06-.94-.94-2.06-.94 2.06-2.06.94z\"/><path d=\"M17.41 7.96l-1.37-1.37c-.4-.4-.92-.59-1.43-.59-.52 0-1.04.2-1.43.59L10.3 9.45l-7.72 7.72c-.78.78-.78 2.05 0 2.83L4 21.41c.39.39.9.59 1.41.59.51 0 1.02-.2 1.41-.59l7.78-7.78 2.81-2.81c.8-.78.8-2.07 0-2.86zM5.41 20L4 18.59l7.72-7.72 1.47 1.35L5.41 20z\"/>\n",
              "  </svg>\n",
              "      </button>\n",
              "      \n",
              "  <style>\n",
              "    .colab-df-container {\n",
              "      display:flex;\n",
              "      flex-wrap:wrap;\n",
              "      gap: 12px;\n",
              "    }\n",
              "\n",
              "    .colab-df-convert {\n",
              "      background-color: #E8F0FE;\n",
              "      border: none;\n",
              "      border-radius: 50%;\n",
              "      cursor: pointer;\n",
              "      display: none;\n",
              "      fill: #1967D2;\n",
              "      height: 32px;\n",
              "      padding: 0 0 0 0;\n",
              "      width: 32px;\n",
              "    }\n",
              "\n",
              "    .colab-df-convert:hover {\n",
              "      background-color: #E2EBFA;\n",
              "      box-shadow: 0px 1px 2px rgba(60, 64, 67, 0.3), 0px 1px 3px 1px rgba(60, 64, 67, 0.15);\n",
              "      fill: #174EA6;\n",
              "    }\n",
              "\n",
              "    [theme=dark] .colab-df-convert {\n",
              "      background-color: #3B4455;\n",
              "      fill: #D2E3FC;\n",
              "    }\n",
              "\n",
              "    [theme=dark] .colab-df-convert:hover {\n",
              "      background-color: #434B5C;\n",
              "      box-shadow: 0px 1px 3px 1px rgba(0, 0, 0, 0.15);\n",
              "      filter: drop-shadow(0px 1px 2px rgba(0, 0, 0, 0.3));\n",
              "      fill: #FFFFFF;\n",
              "    }\n",
              "  </style>\n",
              "\n",
              "      <script>\n",
              "        const buttonEl =\n",
              "          document.querySelector('#df-598d4f2b-a543-4b48-ac44-a88ad1430c0e button.colab-df-convert');\n",
              "        buttonEl.style.display =\n",
              "          google.colab.kernel.accessAllowed ? 'block' : 'none';\n",
              "\n",
              "        async function convertToInteractive(key) {\n",
              "          const element = document.querySelector('#df-598d4f2b-a543-4b48-ac44-a88ad1430c0e');\n",
              "          const dataTable =\n",
              "            await google.colab.kernel.invokeFunction('convertToInteractive',\n",
              "                                                     [key], {});\n",
              "          if (!dataTable) return;\n",
              "\n",
              "          const docLinkHtml = 'Like what you see? Visit the ' +\n",
              "            '<a target=\"_blank\" href=https://colab.research.google.com/notebooks/data_table.ipynb>data table notebook</a>'\n",
              "            + ' to learn more about interactive tables.';\n",
              "          element.innerHTML = '';\n",
              "          dataTable['output_type'] = 'display_data';\n",
              "          await google.colab.output.renderOutput(dataTable, element);\n",
              "          const docLink = document.createElement('div');\n",
              "          docLink.innerHTML = docLinkHtml;\n",
              "          element.appendChild(docLink);\n",
              "        }\n",
              "      </script>\n",
              "    </div>\n",
              "  </div>\n",
              "  "
            ]
          },
          "metadata": {},
          "execution_count": 33
        }
      ]
    },
    {
      "cell_type": "code",
      "source": [
        "def example_complain(index):\n",
        "    example = data[data.index == index][['consumer_complaint_narrative', 'product']].values[0]\n",
        "    if len(example) > 0:\n",
        "        print(example[0])\n",
        "        print()\n",
        "        print('Category:', example[1])"
      ],
      "metadata": {
        "id": "ZsaY-K79Tkwh"
      },
      "execution_count": 34,
      "outputs": []
    },
    {
      "cell_type": "code",
      "source": [
        "example_complain(10)"
      ],
      "metadata": {
        "id": "D3YRr-JZTkzR",
        "colab": {
          "base_uri": "https://localhost:8080/"
        },
        "outputId": "fb1386a1-df6e-4c92-dc70-bfe2326ca8c2"
      },
      "execution_count": 35,
      "outputs": [
        {
          "output_type": "stream",
          "name": "stdout",
          "text": [
            "I am very disappointed that the CFPB did not help to resolve this fraudulant loan. # XXXX between XXXX XXXX and XXXX, FF ( AKA ) One West. Case # XXXX with CFPB. \n",
            "\n",
            "\n",
            "Category: Others Services\n"
          ]
        }
      ]
    },
    {
      "cell_type": "code",
      "source": [
        "data = data.reset_index(drop=True)\n",
        "REPLACE_BY_SPACE_RE = re.compile('[/(){}\\[\\]\\|@,;]')\n",
        "BAD_SYMBOLS_RE = re.compile('[^0-9a-z #+_]')\n",
        "STOPWORDS = set(stopwords.words('english'))\n",
        "\n",
        "def clean_text(text):\n",
        "    \"\"\"\n",
        "        text: a string\n",
        "        \n",
        "        return: modified initial string\n",
        "    \"\"\"\n",
        "    text = text.lower() # lowercase text\n",
        "    text = REPLACE_BY_SPACE_RE.sub(' ', text) # replace REPLACE_BY_SPACE_RE symbols by space in text. substitute the matched string in REPLACE_BY_SPACE_RE with space.\n",
        "    text = BAD_SYMBOLS_RE.sub('', text) # remove symbols which are in BAD_SYMBOLS_RE from text. substitute the matched string in BAD_SYMBOLS_RE with nothing. \n",
        "    text = text.replace('x', '')\n",
        "#    text = re.sub(r'\\W+', '', text)\n",
        "    text = ' '.join(word for word in text.split() if word not in STOPWORDS) # remove stopwors from text\n",
        "    return text\n",
        "data['consumer_complaint_narrative'] = data['consumer_complaint_narrative'].apply(clean_text)"
      ],
      "metadata": {
        "id": "el2qKt_LTk22"
      },
      "execution_count": 36,
      "outputs": []
    },
    {
      "cell_type": "code",
      "source": [
        "example_complain(10)"
      ],
      "metadata": {
        "id": "gLtoQZHbYyqT",
        "colab": {
          "base_uri": "https://localhost:8080/"
        },
        "outputId": "1208719f-c32b-4a8e-9ff3-c16c7fa46ce7"
      },
      "execution_count": 37,
      "outputs": [
        {
          "output_type": "stream",
          "name": "stdout",
          "text": [
            "disappointed cfpb help resolve fraudulant loan # ff aka one west case # cfpb\n",
            "\n",
            "Category: Others Services\n"
          ]
        }
      ]
    },
    {
      "cell_type": "code",
      "source": [
        "# The maximum number of words to be used. (most frequent)\n",
        "MAX_NB_WORDS = 50000\n",
        "# Max number of words in each complaint.\n",
        "MAX_SEQUENCE_LENGTH = 250\n",
        "# This is fixed.\n",
        "EMBEDDING_DIM = 100\n",
        "\n",
        "tokenizer = Tokenizer(num_words=MAX_NB_WORDS, filters='!\"#$%&()*+,-./:;<=>?@[\\]^_`{|}~', lower=True)\n",
        "tokenizer.fit_on_texts(data['consumer_complaint_narrative'].values)\n",
        "word_index = tokenizer.word_index\n",
        "print('Found %s unique tokens.' % len(word_index))"
      ],
      "metadata": {
        "id": "C12E0us-YyuM",
        "colab": {
          "base_uri": "https://localhost:8080/"
        },
        "outputId": "3f57bf6f-33d8-4b4d-a03c-de34eee116a3"
      },
      "execution_count": 38,
      "outputs": [
        {
          "output_type": "stream",
          "name": "stdout",
          "text": [
            "Found 11398 unique tokens.\n"
          ]
        }
      ]
    },
    {
      "cell_type": "code",
      "source": [
        "# Train-Test Split"
      ],
      "metadata": {
        "id": "sFGZavK5Zu2u"
      },
      "execution_count": 39,
      "outputs": []
    },
    {
      "cell_type": "code",
      "source": [
        "X = tokenizer.texts_to_sequences(data['consumer_complaint_narrative'].values)\n",
        "X = pad_sequences(X, maxlen=MAX_SEQUENCE_LENGTH)\n",
        "print('Shape of data tensor:', X.shape)"
      ],
      "metadata": {
        "id": "jPnKLCIeYyxH",
        "colab": {
          "base_uri": "https://localhost:8080/"
        },
        "outputId": "53ec3365-7863-4fb2-f514-44d57f1a2144"
      },
      "execution_count": 40,
      "outputs": [
        {
          "output_type": "stream",
          "name": "stdout",
          "text": [
            "Shape of data tensor: (2337, 250)\n"
          ]
        }
      ]
    },
    {
      "cell_type": "code",
      "source": [
        "Y = pd.get_dummies(data['product']).values\n",
        "print('Shape of label tensor:', Y.shape)"
      ],
      "metadata": {
        "id": "0J_n3RAFYy0b",
        "colab": {
          "base_uri": "https://localhost:8080/"
        },
        "outputId": "7f9ab6da-3da4-47b8-d308-f99f2051f432"
      },
      "execution_count": 41,
      "outputs": [
        {
          "output_type": "stream",
          "name": "stdout",
          "text": [
            "Shape of label tensor: (2337, 4)\n"
          ]
        }
      ]
    },
    {
      "cell_type": "code",
      "source": [
        "X_train, X_test, Y_train, Y_test = train_test_split(X,Y, test_size = 0.20, random_state = 42)\n",
        "print(X_train.shape,Y_train.shape)\n",
        "print(X_test.shape,Y_test.shape)"
      ],
      "metadata": {
        "id": "5fCcB10LYy2A",
        "colab": {
          "base_uri": "https://localhost:8080/"
        },
        "outputId": "1b47640c-eec8-4006-e20e-a368ff68181a"
      },
      "execution_count": 55,
      "outputs": [
        {
          "output_type": "stream",
          "name": "stdout",
          "text": [
            "(1869, 250) (1869, 4)\n",
            "(468, 250) (468, 4)\n"
          ]
        }
      ]
    },
    {
      "cell_type": "code",
      "source": [
        "# Model Building\n",
        "\n",
        "model = Sequential()\n",
        "model.add(Embedding(MAX_NB_WORDS, EMBEDDING_DIM, input_length=X.shape[1]))\n",
        "model.add(SpatialDropout1D(0.2))\n",
        "model.add(LSTM(100, dropout=0.2, recurrent_dropout=0.2))\n",
        "model.add(Dense(4, activation='softmax'))\n",
        "model.compile(loss='categorical_crossentropy', optimizer='adam', metrics=['accuracy'])\n",
        "print(model.summary())"
      ],
      "metadata": {
        "id": "FDHt3mMKYy3k",
        "colab": {
          "base_uri": "https://localhost:8080/"
        },
        "outputId": "3502ca93-839e-4636-9d30-98b364620ed3"
      },
      "execution_count": 66,
      "outputs": [
        {
          "output_type": "stream",
          "name": "stdout",
          "text": [
            "Model: \"sequential_4\"\n",
            "_________________________________________________________________\n",
            " Layer (type)                Output Shape              Param #   \n",
            "=================================================================\n",
            " embedding_4 (Embedding)     (None, 250, 100)          5000000   \n",
            "                                                                 \n",
            " spatial_dropout1d_4 (Spatia  (None, 250, 100)         0         \n",
            " lDropout1D)                                                     \n",
            "                                                                 \n",
            " lstm_4 (LSTM)               (None, 100)               80400     \n",
            "                                                                 \n",
            " dense_4 (Dense)             (None, 4)                 404       \n",
            "                                                                 \n",
            "=================================================================\n",
            "Total params: 5,080,804\n",
            "Trainable params: 5,080,804\n",
            "Non-trainable params: 0\n",
            "_________________________________________________________________\n",
            "None\n"
          ]
        }
      ]
    },
    {
      "cell_type": "code",
      "source": [
        "epochs = 5\n",
        "batch_size = 100\n",
        "\n",
        "history = model.fit(X_train, Y_train, epochs=epochs, batch_size=batch_size,validation_split=0.1,callbacks=[EarlyStopping(monitor='val_loss', patience=3,verbose=2, mode='auto',)])"
      ],
      "metadata": {
        "id": "TDQ0R16QaIJH",
        "colab": {
          "base_uri": "https://localhost:8080/"
        },
        "outputId": "2bda31bf-ac41-4e2b-fa91-9b921e2ed709"
      },
      "execution_count": 67,
      "outputs": [
        {
          "output_type": "stream",
          "name": "stdout",
          "text": [
            "Epoch 1/5\n",
            "17/17 [==============================] - 19s 970ms/step - loss: 1.2818 - accuracy: 0.4917 - val_loss: 1.1284 - val_accuracy: 0.5615\n",
            "Epoch 2/5\n",
            "17/17 [==============================] - 16s 948ms/step - loss: 1.1007 - accuracy: 0.5202 - val_loss: 1.0590 - val_accuracy: 0.5615\n",
            "Epoch 3/5\n",
            "17/17 [==============================] - 16s 951ms/step - loss: 0.9217 - accuracy: 0.5933 - val_loss: 1.0549 - val_accuracy: 0.5241\n",
            "Epoch 4/5\n",
            "17/17 [==============================] - 16s 952ms/step - loss: 0.7759 - accuracy: 0.7134 - val_loss: 0.9415 - val_accuracy: 0.6364\n",
            "Epoch 5/5\n",
            "17/17 [==============================] - 16s 954ms/step - loss: 0.5340 - accuracy: 0.7830 - val_loss: 0.9058 - val_accuracy: 0.6684\n"
          ]
        }
      ]
    },
    {
      "cell_type": "code",
      "source": [
        "accr = model.evaluate(X_test,Y_test)\n",
        "print('Test set\\n  Loss: {:0.3f}\\n  Accuracy: {:0.3f}'.format(accr[0],accr[1]))"
      ],
      "metadata": {
        "id": "UBVf3WOzcbMX",
        "colab": {
          "base_uri": "https://localhost:8080/"
        },
        "outputId": "caa918bf-df64-4519-a2dd-391936db4a16"
      },
      "execution_count": 59,
      "outputs": [
        {
          "output_type": "stream",
          "name": "stdout",
          "text": [
            "15/15 [==============================] - 1s 68ms/step - loss: 0.7719 - accuracy: 0.7436\n",
            "Test set\n",
            "  Loss: 0.772\n",
            "  Accuracy: 0.744\n"
          ]
        }
      ]
    },
    {
      "cell_type": "code",
      "source": [
        "plt.title('Loss')\n",
        "plt.plot(history.history['loss'], label='train')\n",
        "plt.plot(history.history['val_loss'], label='test')\n",
        "plt.legend()\n",
        "plt.show();"
      ],
      "metadata": {
        "id": "inBGdugPcbPA",
        "colab": {
          "base_uri": "https://localhost:8080/",
          "height": 281
        },
        "outputId": "93598f34-94a1-4c5b-9c1f-e7cbccefa40c"
      },
      "execution_count": 68,
      "outputs": [
        {
          "output_type": "display_data",
          "data": {
            "text/plain": [
              "<Figure size 432x288 with 1 Axes>"
            ],
            "image/png": "[encoded data removed]"
          },
          "metadata": {
            "needs_background": "light"
          }
        }
      ]
    },
    {
      "cell_type": "code",
      "source": [
        "plt.title('Accuracy')\n",
        "plt.plot(history.history['accuracy'], label='train')\n",
        "plt.plot(history.history['val_accuracy'], label='test')\n",
        "plt.legend()\n",
        "plt.show();"
      ],
      "metadata": {
        "id": "8sj2GybGcbRE",
        "colab": {
          "base_uri": "https://localhost:8080/",
          "height": 281
        },
        "outputId": "0c2e573d-cf90-4706-ebb9-22ab4c212ee6"
      },
      "execution_count": 69,
      "outputs": [
        {
          "output_type": "display_data",
          "data": {
            "text/plain": [
              "<Figure size 432x288 with 1 Axes>"
            ],
            "image/png": "[encoded data removed]"
          },
          "metadata": {
            "needs_background": "light"
          }
        }
      ]
    },
    {
      "cell_type": "code",
      "source": [
        "new_complaint = ['This letter is to dispute an incorrectly charged amount on my credit card']\n",
        "seq = tokenizer.texts_to_sequences(new_complaint)\n",
        "padded = pad_sequences(seq, maxlen=MAX_SEQUENCE_LENGTH)\n",
        "pred = model.predict(padded)\n",
        "labels = ['Credit reporting, credit repair services, or other personal consumer reports', 'Debt collection', 'Mortgage', 'Credit card or prepaid card', 'Student loan', 'Bank account or service', 'Checking or savings account', 'Consumer Loan', 'Payday loan, title loan, or personal loan', 'Vehicle loan or lease', 'Money transfer, virtual currency, or money service', 'Money transfers', 'Prepaid card']\n",
        "print(pred, labels[np.argmax(pred)])"
      ],
      "metadata": {
        "id": "Ls7k-JA5cbTN",
        "colab": {
          "base_uri": "https://localhost:8080/"
        },
        "outputId": "33cce05c-b5f8-4b23-f136-50e3a227ea5e"
      },
      "execution_count": 76,
      "outputs": [
        {
          "output_type": "stream",
          "name": "stdout",
          "text": [
            "[[0.14037882 0.5841123  0.12789293 0.14761586]] Debt collection\n"
          ]
        }
      ]
    }
  ]
}