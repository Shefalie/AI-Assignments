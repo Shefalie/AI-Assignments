{
  "nbformat": 4,
  "nbformat_minor": 0,
  "metadata": {
    "colab": {
      "name": "Fashion MNIST Clothing Classification.ipynb",
      "provenance": []
    },
    "kernelspec": {
      "name": "python3",
      "display_name": "Python 3"
    },
    "language_info": {
      "name": "python"
    }
  },
  "cells": [
    {
      "cell_type": "code",
      "source": [
        "#Import libraries\n",
        "\n",
        "import pandas as pd\n",
        "import numpy as np\n",
        "import tensorflow as tf\n",
        "from tensorflow import keras\n",
        "from tensorflow.keras.models import Sequential\n",
        "from tensorflow.keras.layers import Dense,Conv2D\n",
        "# Importing packages and dataset into the workspace\n",
        "%matplotlib inline\n",
        "import tensorflow as tf\n",
        "from tensorflow import keras\n",
        "import numpy as np\n",
        "import matplotlib.pyplot as plt\n",
        "from sklearn.decomposition import PCA\n",
        "from sklearn.ensemble import RandomForestClassifier\n",
        "from sklearn.metrics import accuracy_score\n",
        "from sklearn.pipeline import Pipeline\n",
        "from tensorflow.keras.utils import to_categorical\n",
        "from keras.models import Sequential\n",
        "from keras.layers import Dense, Flatten, Conv2D, Dropout, MaxPooling2D\n",
        "from sklearn.model_selection import GridSearchCV, ShuffleSplit, train_test_split\n",
        "from sklearn.svm import SVC\n",
        "from sklearn.linear_model import LogisticRegression\n",
        "from sklearn.neighbors import KNeighborsClassifier\n",
        "from sklearn.neighbors import NearestCentroid\n",
        "from sklearn import metrics\n",
        "from sklearn.cluster import KMeans\n",
        "from sklearn.metrics import classification_report \n",
        "fashion_mnist = keras.datasets.fashion_mnist\n",
        "(train_images, train_labels), (test_images, test_labels) = fashion_mnist.load_data()"
      ],
      "metadata": {
        "id": "TUtqv1tu2ZwF",
        "colab": {
          "base_uri": "https://localhost:8080/"
        },
        "outputId": "ac7376e0-278b-4fed-fbde-0acdd12c1282"
      },
      "execution_count": 1,
      "outputs": [
        {
          "output_type": "stream",
          "name": "stdout",
          "text": [
            "Downloading data from https://storage.googleapis.com/tensorflow/tf-keras-datasets/train-labels-idx1-ubyte.gz\n",
            "32768/29515 [=================================] - 0s 0us/step\n",
            "40960/29515 [=========================================] - 0s 0us/step\n",
            "Downloading data from https://storage.googleapis.com/tensorflow/tf-keras-datasets/train-images-idx3-ubyte.gz\n",
            "26427392/26421880 [==============================] - 0s 0us/step\n",
            "26435584/26421880 [==============================] - 0s 0us/step\n",
            "Downloading data from https://storage.googleapis.com/tensorflow/tf-keras-datasets/t10k-labels-idx1-ubyte.gz\n",
            "16384/5148 [===============================================================================================] - 0s 0us/step\n",
            "Downloading data from https://storage.googleapis.com/tensorflow/tf-keras-datasets/t10k-images-idx3-ubyte.gz\n",
            "4423680/4422102 [==============================] - 0s 0us/step\n",
            "4431872/4422102 [==============================] - 0s 0us/step\n"
          ]
        }
      ]
    },
    {
      "cell_type": "code",
      "source": [
        "df = tf.keras.datasets.fashion_mnist\n",
        "# spliting the data into train and testing part\n",
        "(train_df,train_labl),(test_df,test_labl) = df.load_data()"
      ],
      "metadata": {
        "id": "pRI8p-Al69l1"
      },
      "execution_count": 2,
      "outputs": []
    },
    {
      "cell_type": "code",
      "source": [
        "#scaling the train data\n",
        "train_df=train_df/np.float32(255)\n",
        "#scaling test data\n",
        "test_df = test_df/np.float32(255)\n"
      ],
      "metadata": {
        "id": "MlkeT6FG69oO"
      },
      "execution_count": 3,
      "outputs": []
    },
    {
      "cell_type": "code",
      "source": [
        "def convert(nparray):\n",
        "    l=[]\n",
        "    dims=nparray.shape\n",
        "    for i in range(dims[0]):\n",
        "        l.append(nparray[i].flatten())\n",
        "    l=np.array(l)\n",
        "    return l\n",
        "train_images_mod = convert(train_df)\n",
        "test_images_mod  = convert(test_df)"
      ],
      "metadata": {
        "id": "i4GZPebj7ab6"
      },
      "execution_count": 4,
      "outputs": []
    },
    {
      "cell_type": "code",
      "source": [
        "for i in range(10):\n",
        "    print ('Train label ' + str(i) + ' count :' + str(len([j for j in train_labl if j==i])))\n",
        "    print ('Test label ' + str(i) + ' count :' + str(len([j for j in test_labl if j==i])))"
      ],
      "metadata": {
        "colab": {
          "base_uri": "https://localhost:8080/"
        },
        "id": "Zk6kOpf-cIp5",
        "outputId": "8833bfb8-06aa-49c0-c77f-661f4602edd5"
      },
      "execution_count": 5,
      "outputs": [
        {
          "output_type": "stream",
          "name": "stdout",
          "text": [
            "Train label 0 count :6000\n",
            "Test label 0 count :1000\n",
            "Train label 1 count :6000\n",
            "Test label 1 count :1000\n",
            "Train label 2 count :6000\n",
            "Test label 2 count :1000\n",
            "Train label 3 count :6000\n",
            "Test label 3 count :1000\n",
            "Train label 4 count :6000\n",
            "Test label 4 count :1000\n",
            "Train label 5 count :6000\n",
            "Test label 5 count :1000\n",
            "Train label 6 count :6000\n",
            "Test label 6 count :1000\n",
            "Train label 7 count :6000\n",
            "Test label 7 count :1000\n",
            "Train label 8 count :6000\n",
            "Test label 8 count :1000\n",
            "Train label 9 count :6000\n",
            "Test label 9 count :1000\n"
          ]
        }
      ]
    },
    {
      "cell_type": "code",
      "source": [
        "label_names = ['T-shirt/top','Trousers','Pullover','Dress','Coat','Sandal','Shirt','Sneaker','Bag','Ankle boot']\n",
        "\n",
        "plt.figure(figsize=(6,6))\n",
        "for i in range(9):\n",
        "    plt.subplot(3,3,i+1)\n",
        "    plt.xticks([])\n",
        "    plt.yticks([])\n",
        "    plt.grid(False)\n",
        "    plt.gray()\n",
        "    plt.imshow(train_df[i])\n",
        "    plt.xlabel(label_names[train_labl[i]])\n",
        "plt.savefig('image_examples.jpg')\n",
        "plt.show()"
      ],
      "metadata": {
        "colab": {
          "base_uri": "https://localhost:8080/",
          "height": 371
        },
        "id": "-VuGCc7VcIsS",
        "outputId": "1e798106-a144-474d-cdae-b29d429c9a46"
      },
      "execution_count": 6,
      "outputs": [
        {
          "output_type": "display_data",
          "data": {
            "text/plain": [
              "<Figure size 432x432 with 9 Axes>"
            ],
            "image/png": "[encoded data removed]"
          },
          "metadata": {}
        }
      ]
    },
    {
      "cell_type": "code",
      "source": [
        "cnn_train       = train_images_mod.reshape(60000,28,28,1)\n",
        "cnn_test        = test_images_mod.reshape(10000,28,28,1)\n",
        "cnn_label_train = to_categorical(train_labl)\n",
        "cnn_label_test  = to_categorical(test_labl)"
      ],
      "metadata": {
        "id": "XwyOsaE47akc"
      },
      "execution_count": 7,
      "outputs": []
    },
    {
      "cell_type": "code",
      "source": [
        "\n",
        "cnn_model = Sequential()\n",
        "cnn_model.add(Conv2D(32, kernel_size = (3,3), activation = 'relu' , kernel_initializer = 'he_uniform', input_shape = (28,28,1)))\n",
        "cnn_model.add(MaxPooling2D(pool_size=(2,2)))\n",
        "cnn_model.add(Conv2D(64, kernel_size = (3,3), activation = 'relu'))\n",
        "cnn_model.add(MaxPooling2D(pool_size=(2,2)))\n",
        "cnn_model.add(Flatten())\n",
        "cnn_model.add(Dense(128,activation = 'relu'))\n",
        "cnn_model.add(Dense(10,activation='softmax'))\n",
        "cnn_model.compile(loss=keras.losses.categorical_crossentropy,\n",
        "                  optimizer='adam',\n",
        "                  metrics=['accuracy'])"
      ],
      "metadata": {
        "id": "9OhD-1rBV0Q9"
      },
      "execution_count": 8,
      "outputs": []
    },
    {
      "cell_type": "code",
      "source": [
        "cnn_train, cnn_train_val, cnn_label_train, cnn_label_train_val = train_test_split(cnn_train,cnn_label_train, test_size = 0.16, random_state = 2019)\n",
        "\n",
        "cnn_model_training = cnn_model.fit(cnn_train,cnn_label_train,batch_size=64,epochs=20,verbose=1,\n",
        "                           validation_data=(cnn_train_val,cnn_label_train_val))"
      ],
      "metadata": {
        "colab": {
          "base_uri": "https://localhost:8080/"
        },
        "id": "FgYXgRCpuyrR",
        "outputId": "149978c4-db3e-4e3d-9d99-c19edf9b6121"
      },
      "execution_count": 9,
      "outputs": [
        {
          "output_type": "stream",
          "name": "stdout",
          "text": [
            "Epoch 1/20\n",
            "788/788 [==============================] - 41s 51ms/step - loss: 0.4496 - accuracy: 0.8377 - val_loss: 0.3741 - val_accuracy: 0.8689\n",
            "Epoch 2/20\n",
            "788/788 [==============================] - 38s 48ms/step - loss: 0.3047 - accuracy: 0.8895 - val_loss: 0.3089 - val_accuracy: 0.8879\n",
            "Epoch 3/20\n",
            "788/788 [==============================] - 38s 48ms/step - loss: 0.2609 - accuracy: 0.9028 - val_loss: 0.2908 - val_accuracy: 0.8933\n",
            "Epoch 4/20\n",
            "788/788 [==============================] - 38s 48ms/step - loss: 0.2268 - accuracy: 0.9158 - val_loss: 0.2722 - val_accuracy: 0.8995\n",
            "Epoch 5/20\n",
            "788/788 [==============================] - 38s 48ms/step - loss: 0.2044 - accuracy: 0.9237 - val_loss: 0.2515 - val_accuracy: 0.9116\n",
            "Epoch 6/20\n",
            "788/788 [==============================] - 38s 48ms/step - loss: 0.1800 - accuracy: 0.9336 - val_loss: 0.2551 - val_accuracy: 0.9083\n",
            "Epoch 7/20\n",
            "788/788 [==============================] - 38s 48ms/step - loss: 0.1579 - accuracy: 0.9409 - val_loss: 0.2518 - val_accuracy: 0.9121\n",
            "Epoch 8/20\n",
            "788/788 [==============================] - 38s 48ms/step - loss: 0.1411 - accuracy: 0.9485 - val_loss: 0.2475 - val_accuracy: 0.9155\n",
            "Epoch 9/20\n",
            "788/788 [==============================] - 38s 48ms/step - loss: 0.1232 - accuracy: 0.9549 - val_loss: 0.2785 - val_accuracy: 0.9105\n",
            "Epoch 10/20\n",
            "788/788 [==============================] - 38s 48ms/step - loss: 0.1085 - accuracy: 0.9592 - val_loss: 0.2842 - val_accuracy: 0.9091\n",
            "Epoch 11/20\n",
            "788/788 [==============================] - 38s 48ms/step - loss: 0.0965 - accuracy: 0.9643 - val_loss: 0.2866 - val_accuracy: 0.9131\n",
            "Epoch 12/20\n",
            "788/788 [==============================] - 38s 48ms/step - loss: 0.0833 - accuracy: 0.9694 - val_loss: 0.2957 - val_accuracy: 0.9123\n",
            "Epoch 13/20\n",
            "788/788 [==============================] - 38s 48ms/step - loss: 0.0731 - accuracy: 0.9731 - val_loss: 0.3083 - val_accuracy: 0.9112\n",
            "Epoch 14/20\n",
            "788/788 [==============================] - 38s 48ms/step - loss: 0.0675 - accuracy: 0.9749 - val_loss: 0.3266 - val_accuracy: 0.9135\n",
            "Epoch 15/20\n",
            "788/788 [==============================] - 38s 48ms/step - loss: 0.0578 - accuracy: 0.9785 - val_loss: 0.3716 - val_accuracy: 0.9094\n",
            "Epoch 16/20\n",
            "788/788 [==============================] - 38s 48ms/step - loss: 0.0482 - accuracy: 0.9822 - val_loss: 0.4078 - val_accuracy: 0.9086\n",
            "Epoch 17/20\n",
            "788/788 [==============================] - 38s 48ms/step - loss: 0.0427 - accuracy: 0.9845 - val_loss: 0.4122 - val_accuracy: 0.9107\n",
            "Epoch 18/20\n",
            "788/788 [==============================] - 38s 48ms/step - loss: 0.0403 - accuracy: 0.9857 - val_loss: 0.4094 - val_accuracy: 0.9141\n",
            "Epoch 19/20\n",
            "788/788 [==============================] - 38s 48ms/step - loss: 0.0377 - accuracy: 0.9865 - val_loss: 0.4237 - val_accuracy: 0.9131\n",
            "Epoch 20/20\n",
            "788/788 [==============================] - 38s 48ms/step - loss: 0.0346 - accuracy: 0.9879 - val_loss: 0.4670 - val_accuracy: 0.9081\n"
          ]
        }
      ]
    },
    {
      "cell_type": "code",
      "source": [
        "cnn_accuracy     = cnn_model_training.history['accuracy']\n",
        "cnn_val_accuracy = cnn_model_training.history['val_accuracy']\n",
        "loss             = cnn_model_training.history['loss'] \n",
        "val_loss         = cnn_model_training.history['val_loss']\n",
        "epochs = [i for i in range (1,21)]\n",
        "\n",
        "plt.plot(epochs, cnn_accuracy, 'b--', label = 'Test accuracy')\n",
        "plt.plot(epochs, cnn_val_accuracy, 'r', label='Validation accuracy')\n",
        "plt.title('Training and validation accuracy')\n",
        "plt.savefig('Accuracy values')\n",
        "plt.legend()\n",
        "\n",
        "plt.figure()\n",
        "plt.plot(epochs, loss, 'b--', label = 'Training loss')\n",
        "plt.plot(epochs, val_loss, 'r', label = 'Validation loss')\n",
        "plt.title('Training and validation loss')\n",
        "plt.legend()\n",
        "plt.savefig('Loss values')\n",
        "plt.show()"
      ],
      "metadata": {
        "colab": {
          "base_uri": "https://localhost:8080/",
          "height": 545
        },
        "id": "qnoiybmquwyA",
        "outputId": "ebe1be4e-22b0-42a6-e830-409efb6acac7"
      },
      "execution_count": 12,
      "outputs": [
        {
          "output_type": "display_data",
          "data": {
            "text/plain": [
              "<Figure size 432x288 with 1 Axes>"
            ],
            "image/png": "[encoded data removed]"
          },
          "metadata": {
            "needs_background": "light"
          }
        },
        {
          "output_type": "display_data",
          "data": {
            "text/plain": [
              "<Figure size 432x288 with 1 Axes>"
            ],
            "image/png": "[encoded data removed]"
          },
          "metadata": {
            "needs_background": "light"
          }
        }
      ]
    },
    {
      "cell_type": "code",
      "source": [
        "accuracy = cnn_model.evaluate(cnn_test,cnn_label_test,verbose=1)\n",
        "print('The accuracy of CNN is equal to : ' + str(accuracy[1]))\n"
      ],
      "metadata": {
        "id": "ieQBjH8Nnu5l",
        "colab": {
          "base_uri": "https://localhost:8080/"
        },
        "outputId": "0be981ab-cc8c-41e5-943c-e84b02ca5ac0"
      },
      "execution_count": 13,
      "outputs": [
        {
          "output_type": "stream",
          "name": "stdout",
          "text": [
            "313/313 [==============================] - 3s 8ms/step - loss: 0.5106 - accuracy: 0.9071\n",
            "The accuracy of CNN is equal to : 0.9071000218391418\n"
          ]
        }
      ]
    }
  ]
}