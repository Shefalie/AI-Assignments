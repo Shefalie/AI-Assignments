{
 "cells": [
  {
   "cell_type": "code",
   "execution_count": 1,
   "id": "88faf233",
   "metadata": {},
   "outputs": [],
   "source": [
    "## Import necessary library\n",
    "\n",
    "import numpy as np"
   ]
  },
  {
   "cell_type": "code",
   "execution_count": 2,
   "id": "d258331c",
   "metadata": {},
   "outputs": [
    {
     "data": {
      "text/plain": [
       "array([[0, 0],\n",
       "       [0, 1],\n",
       "       [1, 1],\n",
       "       [1, 0]])"
      ]
     },
     "execution_count": 2,
     "metadata": {},
     "output_type": "execute_result"
    }
   ],
   "source": [
    "# assign input values\n",
    "input_value = np.array([[0,0],[0,1],[1,1],[1,0]])\n",
    "input_value.shape\n",
    "input_value"
   ]
  },
  {
   "cell_type": "code",
   "execution_count": 3,
   "id": "a1e98914",
   "metadata": {},
   "outputs": [
    {
     "data": {
      "text/plain": [
       "(4, 1)"
      ]
     },
     "execution_count": 3,
     "metadata": {},
     "output_type": "execute_result"
    }
   ],
   "source": [
    "# assign output values\n",
    "output = np.array([0,1,1,0])\n",
    "output = output.reshape(4,1)\n",
    "output.shape\n"
   ]
  },
  {
   "cell_type": "code",
   "execution_count": 4,
   "id": "8357da68",
   "metadata": {},
   "outputs": [
    {
     "data": {
      "text/plain": [
       "array([[0.1],\n",
       "       [0.2]])"
      ]
     },
     "execution_count": 4,
     "metadata": {},
     "output_type": "execute_result"
    }
   ],
   "source": [
    "# assign weights\n",
    "weights = np.array([[0.1],[0.2]])\n",
    "weights"
   ]
  },
  {
   "cell_type": "code",
   "execution_count": 5,
   "id": "d4e202cf",
   "metadata": {},
   "outputs": [],
   "source": [
    "# add bias\n",
    "bias = 0.3"
   ]
  },
  {
   "cell_type": "code",
   "execution_count": 8,
   "id": "ba8f11a8",
   "metadata": {},
   "outputs": [],
   "source": [
    "# activation function\n",
    "def sigmoid_func(x):\n",
    "    return 1/(1+np.exp(-x))"
   ]
  },
  {
   "cell_type": "code",
   "execution_count": 9,
   "id": "a84226cd",
   "metadata": {},
   "outputs": [],
   "source": [
    "# derivative of sigmoid function\n",
    "def der(x):\n",
    "    return sigmoid_func(x) * (1- sigmoid_func(x))"
   ]
  },
  {
   "cell_type": "code",
   "execution_count": 14,
   "id": "61c5e17d",
   "metadata": {},
   "outputs": [
    {
     "name": "stdout",
     "output_type": "stream",
     "text": [
      "[[-0.41953547]\n",
      " [ 8.98887811]]\n",
      "[-4.19706344]\n"
     ]
    }
   ],
   "source": [
    "# updating weights\n",
    "\n",
    "for epochs in range(10000):\n",
    "    input_arr = input_value\n",
    "\n",
    "    weighted_sum = np.dot(input_arr,weights) + bias\n",
    "    first_output = sigmoid_func(weighted_sum)\n",
    "\n",
    "    error       = first_output - output\n",
    "    total_error = np.square(np.subtract(first_output,output)).mean()\n",
    "\n",
    "    first_der = error\n",
    "    second_der = der(first_output)\n",
    "    derivative = first_der * second_der\n",
    "\n",
    "    t_input = input_value.T\n",
    "    final_derivative = np.dot(t_input,derivative)\n",
    "\n",
    "  # update weights\n",
    "    weights = weights - 0.05 * final_derivative\n",
    "\n",
    "  # update bias\n",
    "\n",
    "    for i in derivative:\n",
    "        bias = bias - 0.05 * i\n",
    "\n",
    "\n",
    "print(weights)\n",
    "print(bias)"
   ]
  },
  {
   "cell_type": "code",
   "execution_count": 15,
   "id": "a15a8709",
   "metadata": {},
   "outputs": [
    {
     "name": "stdout",
     "output_type": "stream",
     "text": [
      "[0.99177089]\n"
     ]
    }
   ],
   "source": [
    "# predictions\n",
    "\n",
    "pred = np.array([0,1])\n",
    "\n",
    "result = np.dot(pred,weights) + bias\n",
    "\n",
    "res = sigmoid_func(result)\n",
    "\n",
    "print(res)"
   ]
  },
  {
   "cell_type": "code",
   "execution_count": 16,
   "id": "b47dda47",
   "metadata": {},
   "outputs": [],
   "source": [
    "# Predictions are almost accurate."
   ]
  },
  {
   "cell_type": "code",
   "execution_count": null,
   "id": "d0ccdb22",
   "metadata": {},
   "outputs": [],
   "source": []
  }
 ],
 "metadata": {
  "kernelspec": {
   "display_name": "Python 3 (ipykernel)",
   "language": "python",
   "name": "python3"
  },
  "language_info": {
   "codemirror_mode": {
    "name": "ipython",
    "version": 3
   },
   "file_extension": ".py",
   "mimetype": "text/x-python",
   "name": "python",
   "nbconvert_exporter": "python",
   "pygments_lexer": "ipython3",
   "version": "3.9.7"
  }
 },
 "nbformat": 4,
 "nbformat_minor": 5
}
